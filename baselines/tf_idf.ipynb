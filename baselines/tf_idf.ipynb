{
 "cells": [
  {
   "cell_type": "markdown",
   "metadata": {
    "id": "YYRtWBHwlfkl"
   },
   "source": [
    "### Concepts: http://tfidf.com/"
   ]
  },
  {
   "cell_type": "code",
   "execution_count": 6,
   "metadata": {
    "id": "uROdwhQYdf0v"
   },
   "outputs": [],
   "source": [
    "from sklearn.feature_extraction.text import TfidfVectorizer\n",
    "import pandas as pd"
   ]
  },
  {
   "cell_type": "code",
   "execution_count": 7,
   "metadata": {
    "id": "kidqAPm4dm4f"
   },
   "outputs": [],
   "source": [
    "vectorizer = TfidfVectorizer(use_idf=True) #tokenizer=fasttext check out https://scikit-learn.org/stable/modules/generated/sklearn.feature_extraction.text.TfidfVectorizer.html"
   ]
  },
  {
   "cell_type": "code",
   "execution_count": 55,
   "metadata": {
    "id": "SkCQ7TGmdzb6"
   },
   "outputs": [],
   "source": [
    "data = ['This moive is deep and meaningful.'] #data = yelp amazon nrc"
   ]
  },
  {
   "cell_type": "code",
   "execution_count": 56,
   "metadata": {
    "id": "QhBD9VSHipUM"
   },
   "outputs": [],
   "source": [
    "scores = vectorizer.fit_transform(data)"
   ]
  },
  {
   "cell_type": "code",
   "execution_count": 59,
   "metadata": {
    "colab": {
     "base_uri": "https://localhost:8080/"
    },
    "id": "oOqxClA8jLxB",
    "outputId": "fe86e701-f70e-4e7f-96a8-5c3310bd7cb0"
   },
   "outputs": [
    {
     "name": "stdout",
     "output_type": "stream",
     "text": [
      "        words    scores\n",
      "0         and  0.408248\n",
      "1        deep  0.408248\n",
      "2          is  0.408248\n",
      "3  meaningful  0.408248\n",
      "4       moive  0.408248\n",
      "5        this  0.408248\n"
     ]
    }
   ],
   "source": [
    "df = pd.DataFrame(scores.T.todense(), \n",
    "                  index=vectorizer.get_feature_names(), \n",
    "                  columns=[\"scores\"])\n",
    "df.sort_values('scores', ascending=False, inplace=True)\n",
    "df.reset_index(inplace=True)\n",
    "df.rename(columns = {'index':'words'}, inplace = True)\n",
    "print (df.head(100))"
   ]
  },
  {
   "cell_type": "code",
   "execution_count": 47,
   "metadata": {
    "id": "OAJXEf2UdtrW"
   },
   "outputs": [],
   "source": [
    "scores = (scores.sum(axis=0) / scores.getnnz(axis=0))"
   ]
  },
  {
   "cell_type": "code",
   "execution_count": 64,
   "metadata": {},
   "outputs": [],
   "source": [
    "df2 = df1.merge(df, how='outer', on='words')"
   ]
  },
  {
   "cell_type": "code",
   "execution_count": 68,
   "metadata": {},
   "outputs": [
    {
     "data": {
      "text/html": [
       "<div>\n",
       "<style scoped>\n",
       "    .dataframe tbody tr th:only-of-type {\n",
       "        vertical-align: middle;\n",
       "    }\n",
       "\n",
       "    .dataframe tbody tr th {\n",
       "        vertical-align: top;\n",
       "    }\n",
       "\n",
       "    .dataframe thead th {\n",
       "        text-align: right;\n",
       "    }\n",
       "</style>\n",
       "<table border=\"1\" class=\"dataframe\">\n",
       "  <thead>\n",
       "    <tr style=\"text-align: right;\">\n",
       "      <th></th>\n",
       "      <th>scores_x</th>\n",
       "      <th>scores_y</th>\n",
       "    </tr>\n",
       "  </thead>\n",
       "  <tbody>\n",
       "    <tr>\n",
       "      <th>0</th>\n",
       "      <td>0.563551</td>\n",
       "      <td>NaN</td>\n",
       "    </tr>\n",
       "    <tr>\n",
       "      <th>1</th>\n",
       "      <td>0.471110</td>\n",
       "      <td>0.408248</td>\n",
       "    </tr>\n",
       "    <tr>\n",
       "      <th>2</th>\n",
       "      <td>0.471110</td>\n",
       "      <td>0.408248</td>\n",
       "    </tr>\n",
       "    <tr>\n",
       "      <th>3</th>\n",
       "      <td>0.471110</td>\n",
       "      <td>0.408248</td>\n",
       "    </tr>\n",
       "    <tr>\n",
       "      <th>4</th>\n",
       "      <td>0.443503</td>\n",
       "      <td>NaN</td>\n",
       "    </tr>\n",
       "    <tr>\n",
       "      <th>5</th>\n",
       "      <td>0.443503</td>\n",
       "      <td>NaN</td>\n",
       "    </tr>\n",
       "    <tr>\n",
       "      <th>6</th>\n",
       "      <td>0.443503</td>\n",
       "      <td>NaN</td>\n",
       "    </tr>\n",
       "    <tr>\n",
       "      <th>7</th>\n",
       "      <td>0.384514</td>\n",
       "      <td>0.408248</td>\n",
       "    </tr>\n",
       "    <tr>\n",
       "      <th>8</th>\n",
       "      <td>0.347793</td>\n",
       "      <td>0.408248</td>\n",
       "    </tr>\n",
       "    <tr>\n",
       "      <th>9</th>\n",
       "      <td>0.347793</td>\n",
       "      <td>0.408248</td>\n",
       "    </tr>\n",
       "  </tbody>\n",
       "</table>\n",
       "</div>"
      ],
      "text/plain": [
       "   scores_x  scores_y\n",
       "0  0.563551       NaN\n",
       "1  0.471110  0.408248\n",
       "2  0.471110  0.408248\n",
       "3  0.471110  0.408248\n",
       "4  0.443503       NaN\n",
       "5  0.443503       NaN\n",
       "6  0.443503       NaN\n",
       "7  0.384514  0.408248\n",
       "8  0.347793  0.408248\n",
       "9  0.347793  0.408248"
      ]
     },
     "execution_count": 68,
     "metadata": {},
     "output_type": "execute_result"
    }
   ],
   "source": [
    "df2[['scores_x', 'scores_y']]"
   ]
  },
  {
   "cell_type": "code",
   "execution_count": 36,
   "metadata": {},
   "outputs": [
    {
     "data": {
      "text/plain": [
       "matrix([[0.4711101 , 0.        , 0.35829137, 0.        , 0.4711101 ,\n",
       "         0.35829137, 0.4711101 , 0.        , 0.27824521, 0.        ],\n",
       "        [0.        , 0.44350256, 0.33729513, 0.44350256, 0.        ,\n",
       "         0.33729513, 0.        , 0.33729513, 0.26193976, 0.44350256],\n",
       "        [0.        , 0.        , 0.        , 0.        , 0.        ,\n",
       "         0.        , 0.        , 0.78980693, 0.61335554, 0.        ]])"
      ]
     },
     "execution_count": 36,
     "metadata": {},
     "output_type": "execute_result"
    }
   ],
   "source": [
    "scores.todense()"
   ]
  },
  {
   "cell_type": "code",
   "execution_count": 59,
   "metadata": {
    "colab": {
     "base_uri": "https://localhost:8080/"
    },
    "id": "--lqWpw1em7h",
    "outputId": "ceddba81-6cc5-4a08-b48d-f4fdc1e0a281"
   },
   "outputs": [
    {
     "name": "stdout",
     "output_type": "stream",
     "text": [
      "{'this': 8, 'moive': 6, 'is': 4, 'deep': 2, 'and': 0, 'meaningful': 5, 'read': 7, 'book': 1, 'in': 3, 'way': 9}\n"
     ]
    }
   ],
   "source": [
    "print(vectorizer.vocabulary_)"
   ]
  },
  {
   "cell_type": "code",
   "execution_count": 28,
   "metadata": {
    "colab": {
     "base_uri": "https://localhost:8080/"
    },
    "id": "WSVfBb7QetBz",
    "outputId": "446e9c07-671e-40f5-c04a-596b36778054"
   },
   "outputs": [
    {
     "name": "stdout",
     "output_type": "stream",
     "text": [
      "  (0, 5)\t0.35829137488557944\n",
      "  (0, 0)\t0.4711101009983051\n",
      "  (0, 2)\t0.35829137488557944\n",
      "  (0, 4)\t0.4711101009983051\n",
      "  (0, 6)\t0.4711101009983051\n",
      "  (0, 8)\t0.2782452148327134\n",
      "  (1, 9)\t0.4435025580042657\n",
      "  (1, 3)\t0.4435025580042657\n",
      "  (1, 1)\t0.4435025580042657\n",
      "  (1, 7)\t0.33729512684167956\n",
      "  (1, 5)\t0.33729512684167956\n",
      "  (1, 2)\t0.33729512684167956\n",
      "  (1, 8)\t0.26193975520639246\n",
      "  (2, 7)\t0.7898069290660905\n",
      "  (2, 8)\t0.6133555370249717\n"
     ]
    }
   ],
   "source": [
    "print(scores)"
   ]
  },
  {
   "cell_type": "code",
   "execution_count": 61,
   "metadata": {
    "colab": {
     "base_uri": "https://localhost:8080/"
    },
    "id": "8GLlcBcqfRQv",
    "outputId": "6a9f852b-7f2e-4a66-8300-2e6cb3c3114c"
   },
   "outputs": [
    {
     "data": {
      "text/plain": [
       "array(['and', 'book', 'deep', 'in', 'is', 'meaningful', 'moive', 'read',\n",
       "       'this', 'way'], dtype=object)"
      ]
     },
     "execution_count": 61,
     "metadata": {},
     "output_type": "execute_result"
    }
   ],
   "source": [
    "vectorizer.get_feature_names_out()"
   ]
  },
  {
   "cell_type": "code",
   "execution_count": 61,
   "metadata": {
    "id": "e3gY5-qGflGD"
   },
   "outputs": [],
   "source": []
  }
 ],
 "metadata": {
  "colab": {
   "collapsed_sections": [],
   "name": "tf-idf.ipynb",
   "provenance": []
  },
  "kernelspec": {
   "display_name": "Python [conda env:rating]",
   "language": "python",
   "name": "conda-env-rating-py"
  },
  "language_info": {
   "codemirror_mode": {
    "name": "ipython",
    "version": 3
   },
   "file_extension": ".py",
   "mimetype": "text/x-python",
   "name": "python",
   "nbconvert_exporter": "python",
   "pygments_lexer": "ipython3",
   "version": "3.7.9"
  }
 },
 "nbformat": 4,
 "nbformat_minor": 4
}
