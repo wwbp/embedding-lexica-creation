{
 "cells": [
  {
   "cell_type": "markdown",
   "metadata": {},
   "source": [
    "# Examples"
   ]
  },
  {
   "cell_type": "code",
   "execution_count": 24,
   "metadata": {},
   "outputs": [
    {
     "name": "stdout",
     "output_type": "stream",
     "text": [
      "en\n",
      "zh-cn\n"
     ]
    }
   ],
   "source": [
    "from langdetect import detect\n",
    "print(\n",
    "    detect(\"What is this language\"),\n",
    "    detect(\"这是什么语言\"),\n",
    "    sep = '\\n'\n",
    ")"
   ]
  },
  {
   "cell_type": "code",
   "execution_count": null,
   "metadata": {},
   "outputs": [],
   "source": [
    "import langid\n",
    "langid.classify(\"This is a test\")\n",
    "# ('en', -54.41310358047485)"
   ]
  },
  {
   "cell_type": "markdown",
   "metadata": {
    "colab_type": "text",
    "id": "LXWy85hSG3ps"
   },
   "source": [
    "# Import Data"
   ]
  },
  {
   "cell_type": "code",
   "execution_count": 1,
   "metadata": {
    "colab": {},
    "colab_type": "code",
    "id": "tYi2edrSIhlZ"
   },
   "outputs": [],
   "source": [
    "import pandas as pd"
   ]
  },
  {
   "cell_type": "code",
   "execution_count": 2,
   "metadata": {
    "colab": {
     "base_uri": "https://localhost:8080/",
     "height": 170
    },
    "colab_type": "code",
    "id": "OaP5UXK6HM4H",
    "outputId": "099b63c3-bc99-40c6-9726-79edc3e721eb"
   },
   "outputs": [
    {
     "data": {
      "text/html": [
       "<div>\n",
       "<style scoped>\n",
       "    .dataframe tbody tr th:only-of-type {\n",
       "        vertical-align: middle;\n",
       "    }\n",
       "\n",
       "    .dataframe tbody tr th {\n",
       "        vertical-align: top;\n",
       "    }\n",
       "\n",
       "    .dataframe thead th {\n",
       "        text-align: right;\n",
       "    }\n",
       "</style>\n",
       "<table border=\"1\" class=\"dataframe\">\n",
       "  <thead>\n",
       "    <tr style=\"text-align: right;\">\n",
       "      <th></th>\n",
       "      <th>message_id</th>\n",
       "      <th>message</th>\n",
       "      <th>emotion</th>\n",
       "    </tr>\n",
       "  </thead>\n",
       "  <tbody>\n",
       "    <tr>\n",
       "      <th>0</th>\n",
       "      <td>145353048817012736</td>\n",
       "      <td>Thinks that @melbahughes had a great 50th birt...</td>\n",
       "      <td>surprise</td>\n",
       "    </tr>\n",
       "    <tr>\n",
       "      <th>1</th>\n",
       "      <td>144279638024257536</td>\n",
       "      <td>Como una expresiÃ³n tan simple, una sola oraci...</td>\n",
       "      <td>sadness</td>\n",
       "    </tr>\n",
       "    <tr>\n",
       "      <th>2</th>\n",
       "      <td>140499585285111809</td>\n",
       "      <td>the moment when you get another follower and y...</td>\n",
       "      <td>joy</td>\n",
       "    </tr>\n",
       "    <tr>\n",
       "      <th>3</th>\n",
       "      <td>145207578270507009</td>\n",
       "      <td>Be the greatest dancer of your life! practice ...</td>\n",
       "      <td>joy</td>\n",
       "    </tr>\n",
       "    <tr>\n",
       "      <th>4</th>\n",
       "      <td>139502146390470656</td>\n",
       "      <td>eww.. my moms starting to make her annual rum ...</td>\n",
       "      <td>disgust</td>\n",
       "    </tr>\n",
       "  </tbody>\n",
       "</table>\n",
       "</div>"
      ],
      "text/plain": [
       "           message_id                                            message  \\\n",
       "0  145353048817012736  Thinks that @melbahughes had a great 50th birt...   \n",
       "1  144279638024257536  Como una expresiÃ³n tan simple, una sola oraci...   \n",
       "2  140499585285111809  the moment when you get another follower and y...   \n",
       "3  145207578270507009  Be the greatest dancer of your life! practice ...   \n",
       "4  139502146390470656  eww.. my moms starting to make her annual rum ...   \n",
       "\n",
       "    emotion  \n",
       "0  surprise  \n",
       "1   sadness  \n",
       "2       joy  \n",
       "3       joy  \n",
       "4   disgust  "
      ]
     },
     "execution_count": 2,
     "metadata": {},
     "output_type": "execute_result"
    }
   ],
   "source": [
    "directory = '/data1/link10/nrc/'\n",
    "file_name = 'msgs_tec.csv'\n",
    "raw_df = pd.read_csv(directory + file_name)\n",
    "# remove rows with missing values\n",
    "df = raw_df.dropna()\n",
    "df.head()"
   ]
  },
  {
   "cell_type": "code",
   "execution_count": 3,
   "metadata": {},
   "outputs": [],
   "source": [
    "data_name = 'message'\n",
    "label_name = 'emotion'"
   ]
  },
  {
   "cell_type": "code",
   "execution_count": 4,
   "metadata": {
    "colab": {
     "base_uri": "https://localhost:8080/",
     "height": 170
    },
    "colab_type": "code",
    "id": "OaP5UXK6HM4H",
    "outputId": "099b63c3-bc99-40c6-9726-79edc3e721eb"
   },
   "outputs": [
    {
     "name": "stdout",
     "output_type": "stream",
     "text": [
      "There are 21049 data.\n",
      "Labels are: ['surprise' 'sadness' 'joy' 'disgust' 'fear' 'anger']\n"
     ]
    },
    {
     "data": {
      "text/plain": [
       "joy         8239\n",
       "surprise    3849\n",
       "sadness     3829\n",
       "fear        2816\n",
       "anger       1555\n",
       "disgust      761\n",
       "Name: emotion, dtype: int64"
      ]
     },
     "execution_count": 4,
     "metadata": {},
     "output_type": "execute_result"
    }
   ],
   "source": [
    "print(\n",
    "    'There are {} data.'.format(df.shape[0]),\n",
    "    'Labels are: {}'.format(df[label_name].unique()),\n",
    "    sep = '\\n'\n",
    "    )\n",
    "df[label_name].value_counts()"
   ]
  },
  {
   "cell_type": "markdown",
   "metadata": {},
   "source": [
    "# Check language for posts"
   ]
  },
  {
   "cell_type": "code",
   "execution_count": 5,
   "metadata": {},
   "outputs": [],
   "source": [
    "code_dict = {}\n",
    "from iso639 import codes\n",
    "for code, lang in codes:\n",
    "    code_dict.setdefault(code,lang)"
   ]
  },
  {
   "cell_type": "code",
   "execution_count": 24,
   "metadata": {},
   "outputs": [],
   "source": [
    "from langdetect import detect\n",
    "def lang_ratio(keyword):\n",
    "    new_df = df[df[label_name]==keyword]\n",
    "    lang_ratio = {}\n",
    "    incre = 100/new_df.shape[0]\n",
    "    for post in new_df[data_name]:\n",
    "        lang = code_dict[detect(post)]\n",
    "        if lang in lang_ratio.keys():\n",
    "            lang_ratio[lang] += incre\n",
    "        else:\n",
    "            lang_ratio[lang] = incre\n",
    "    sorted_ratio= sorted(lang_ratio.items(), key=lambda x: x[1], reverse=True)\n",
    "    return sorted_ratio"
   ]
  },
  {
   "cell_type": "code",
   "execution_count": 26,
   "metadata": {},
   "outputs": [
    {
     "data": {
      "text/plain": [
       "[('English', 96.32063074901617),\n",
       " ('Indonesian', 0.657030223390276),\n",
       " ('Spanish; Castilian', 0.5256241787122208),\n",
       " ('Norwegian', 0.5256241787122208),\n",
       " ('Afrikaans', 0.3942181340341656),\n",
       " ('French', 0.3942181340341656),\n",
       " ('Catalan; Valencian', 0.2628120893561104),\n",
       " ('Dutch; Flemish', 0.1314060446780552),\n",
       " ('Polish', 0.1314060446780552),\n",
       " ('Somali', 0.1314060446780552),\n",
       " ('Welsh', 0.1314060446780552),\n",
       " ('Romanian; Moldavian; Moldovan', 0.1314060446780552),\n",
       " ('German', 0.1314060446780552),\n",
       " ('Portuguese', 0.1314060446780552)]"
      ]
     },
     "execution_count": 26,
     "metadata": {},
     "output_type": "execute_result"
    }
   ],
   "source": [
    "lang_ratio('disgust')"
   ]
  },
  {
   "cell_type": "code",
   "execution_count": 27,
   "metadata": {},
   "outputs": [
    {
     "data": {
      "text/plain": [
       "[('English', 79.05949597297696),\n",
       " ('Dutch; Flemish', 12.496752403221732),\n",
       " ('French', 3.4294621979734945),\n",
       " ('Afrikaans', 1.402961808261886),\n",
       " ('Indonesian', 0.6755001299038713),\n",
       " ('Spanish; Castilian', 0.5455962587685113),\n",
       " ('Tagalog', 0.3897116134060794),\n",
       " ('Somali', 0.36373083917900745),\n",
       " ('Swedish', 0.23382696804364766),\n",
       " ('Portuguese', 0.23382696804364766),\n",
       " ('Danish', 0.23382696804364766),\n",
       " ('German', 0.2078461938165757),\n",
       " ('Norwegian', 0.18186541958950375),\n",
       " ('Estonian', 0.1558846453624318),\n",
       " ('Italian', 0.12990387113535984),\n",
       " ('Welsh', 0.0779423226812159),\n",
       " ('Turkish', 0.051961548454143934),\n",
       " ('Finnish', 0.051961548454143934),\n",
       " ('Romanian; Moldavian; Moldovan', 0.025980774227071967),\n",
       " ('Vietnamese', 0.025980774227071967),\n",
       " ('Polish', 0.025980774227071967)]"
      ]
     },
     "execution_count": 27,
     "metadata": {},
     "output_type": "execute_result"
    }
   ],
   "source": [
    "lang_ratio('surprise')"
   ]
  },
  {
   "cell_type": "code",
   "execution_count": 28,
   "metadata": {},
   "outputs": [
    {
     "data": {
      "text/plain": [
       "[('English', 94.07155915383096),\n",
       " ('Italian', 1.227474536432488),\n",
       " ('French', 0.9401932619482888),\n",
       " ('Spanish; Castilian', 0.7573779054583439),\n",
       " ('Tagalog', 0.7312614259597804),\n",
       " ('Afrikaans', 0.5484460694698355),\n",
       " ('Indonesian', 0.2872812744841996),\n",
       " ('Dutch; Flemish', 0.2872812744841996),\n",
       " ('Norwegian', 0.18281535648994518),\n",
       " ('Estonian', 0.15669887699138157),\n",
       " ('Somali', 0.13058239749281797),\n",
       " ('Danish', 0.10446591799425438),\n",
       " ('Portuguese', 0.10446591799425438),\n",
       " ('German', 0.07834943849569079),\n",
       " ('Romanian; Moldavian; Moldovan', 0.07834943849569079),\n",
       " ('Catalan; Valencian', 0.07834943849569079),\n",
       " ('Welsh', 0.05223295899712719),\n",
       " ('Polish', 0.05223295899712719),\n",
       " ('Croatian', 0.026116479498563595),\n",
       " ('Swahili', 0.026116479498563595),\n",
       " ('Latvian', 0.026116479498563595),\n",
       " ('Vietnamese', 0.026116479498563595),\n",
       " ('Slovak', 0.026116479498563595)]"
      ]
     },
     "execution_count": 28,
     "metadata": {},
     "output_type": "execute_result"
    }
   ],
   "source": [
    "lang_ratio('sadness')"
   ]
  },
  {
   "cell_type": "code",
   "execution_count": 29,
   "metadata": {},
   "outputs": [
    {
     "data": {
      "text/plain": [
       "[('English', 91.15767045454515),\n",
       " ('French', 5.610795454545444),\n",
       " ('Spanish; Castilian', 0.8167613636363638),\n",
       " ('Portuguese', 0.6036931818181819),\n",
       " ('Indonesian', 0.3551136363636364),\n",
       " ('Italian', 0.31960227272727276),\n",
       " ('Dutch; Flemish', 0.2485795454545455),\n",
       " ('Norwegian', 0.10653409090909091),\n",
       " ('Danish', 0.10653409090909091),\n",
       " ('Somali', 0.10653409090909091),\n",
       " ('German', 0.10653409090909091),\n",
       " ('Tagalog', 0.10653409090909091),\n",
       " ('Vietnamese', 0.07102272727272728),\n",
       " ('Afrikaans', 0.07102272727272728),\n",
       " ('Croatian', 0.03551136363636364),\n",
       " ('Finnish', 0.03551136363636364),\n",
       " ('Turkish', 0.03551136363636364),\n",
       " ('Slovenian', 0.03551136363636364),\n",
       " ('Estonian', 0.03551136363636364),\n",
       " ('Albanian', 0.03551136363636364)]"
      ]
     },
     "execution_count": 29,
     "metadata": {},
     "output_type": "execute_result"
    }
   ],
   "source": [
    "lang_ratio('fear')"
   ]
  },
  {
   "cell_type": "code",
   "execution_count": 30,
   "metadata": {},
   "outputs": [
    {
     "data": {
      "text/plain": [
       "[('English', 95.88424437299201),\n",
       " ('Norwegian', 0.6430868167202574),\n",
       " ('Dutch; Flemish', 0.5144694533762059),\n",
       " ('Indonesian', 0.5144694533762059),\n",
       " ('German', 0.38585209003215437),\n",
       " ('Afrikaans', 0.3215434083601286),\n",
       " ('French', 0.3215434083601286),\n",
       " ('Welsh', 0.2572347266881029),\n",
       " ('Somali', 0.2572347266881029),\n",
       " ('Portuguese', 0.19292604501607716),\n",
       " ('Italian', 0.12861736334405144),\n",
       " ('Romanian; Moldavian; Moldovan', 0.12861736334405144),\n",
       " ('Estonian', 0.12861736334405144),\n",
       " ('Swedish', 0.12861736334405144),\n",
       " ('Tagalog', 0.12861736334405144),\n",
       " ('Slovenian', 0.06430868167202572)]"
      ]
     },
     "execution_count": 30,
     "metadata": {},
     "output_type": "execute_result"
    }
   ],
   "source": [
    "lang_ratio('anger')"
   ]
  },
  {
   "cell_type": "code",
   "execution_count": 31,
   "metadata": {},
   "outputs": [
    {
     "data": {
      "text/plain": [
       "[('English', 95.69122466318957),\n",
       " ('Spanish; Castilian', 0.8496176720475773),\n",
       " ('Dutch; Flemish', 0.7039689282679927),\n",
       " ('Afrikaans', 0.5097706032285466),\n",
       " ('French', 0.41267144070882356),\n",
       " ('Tagalog', 0.29129748755916973),\n",
       " ('Somali', 0.24274790629930817),\n",
       " ('Portuguese', 0.20633572035441194),\n",
       " ('Norwegian', 0.1577861390945503),\n",
       " ('Indonesian', 0.13351134846461948),\n",
       " ('German', 0.12137395314965409),\n",
       " ('Italian', 0.10923655783468868),\n",
       " ('Welsh', 0.09709916251972327),\n",
       " ('Danish', 0.07282437188979245),\n",
       " ('Swedish', 0.07282437188979245),\n",
       " ('Romanian; Moldavian; Moldovan', 0.07282437188979245),\n",
       " ('Catalan; Valencian', 0.060686976574827044),\n",
       " ('Estonian', 0.060686976574827044),\n",
       " ('Finnish', 0.060686976574827044),\n",
       " ('Slovenian', 0.03641218594489622),\n",
       " ('Croatian', 0.012137395314965408),\n",
       " ('Czech', 0.012137395314965408),\n",
       " ('Albanian', 0.012137395314965408)]"
      ]
     },
     "execution_count": 31,
     "metadata": {},
     "output_type": "execute_result"
    }
   ],
   "source": [
    "lang_ratio('joy')"
   ]
  },
  {
   "cell_type": "code",
   "execution_count": null,
   "metadata": {},
   "outputs": [],
   "source": []
  }
 ],
 "metadata": {
  "kernelspec": {
   "display_name": "nlp",
   "language": "python",
   "name": "nlp"
  },
  "language_info": {
   "codemirror_mode": {
    "name": "ipython",
    "version": 3
   },
   "file_extension": ".py",
   "mimetype": "text/x-python",
   "name": "python",
   "nbconvert_exporter": "python",
   "pygments_lexer": "ipython3",
   "version": "3.8.5"
  }
 },
 "nbformat": 4,
 "nbformat_minor": 4
}
