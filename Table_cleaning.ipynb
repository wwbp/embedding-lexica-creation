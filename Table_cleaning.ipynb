{
 "cells": [
  {
   "cell_type": "code",
   "execution_count": 1,
   "metadata": {},
   "outputs": [],
   "source": [
    "import pandas as pd\n",
    "import numpy as np\n",
    "\n",
    "import os"
   ]
  },
  {
   "cell_type": "code",
   "execution_count": 2,
   "metadata": {},
   "outputs": [
    {
     "data": {
      "text/plain": [
       "(582, 3)"
      ]
     },
     "execution_count": 2,
     "metadata": {},
     "output_type": "execute_result"
    }
   ],
   "source": [
    "raw_df = pd.read_csv('Generalization results - Generalization results.tsv',sep = '\\t')\n",
    "raw_df.shape"
   ]
  },
  {
   "cell_type": "code",
   "execution_count": 3,
   "metadata": {},
   "outputs": [
    {
     "data": {
      "text/html": [
       "<div>\n",
       "<style scoped>\n",
       "    .dataframe tbody tr th:only-of-type {\n",
       "        vertical-align: middle;\n",
       "    }\n",
       "\n",
       "    .dataframe tbody tr th {\n",
       "        vertical-align: top;\n",
       "    }\n",
       "\n",
       "    .dataframe thead th {\n",
       "        text-align: right;\n",
       "    }\n",
       "</style>\n",
       "<table border=\"1\" class=\"dataframe\">\n",
       "  <thead>\n",
       "    <tr style=\"text-align: right;\">\n",
       "      <th></th>\n",
       "      <th>Training dataset</th>\n",
       "      <th>Method</th>\n",
       "      <th>Evaluation results (Model accuracy F1 Lexion accuracy F1)</th>\n",
       "    </tr>\n",
       "  </thead>\n",
       "  <tbody>\n",
       "    <tr>\n",
       "      <th>0</th>\n",
       "      <td>nrc_joy</td>\n",
       "      <td>ffn</td>\n",
       "      <td>nrc_joy , 0.769 , 0.763 , 0.736 , 0.733</td>\n",
       "    </tr>\n",
       "    <tr>\n",
       "      <th>1</th>\n",
       "      <td>nrc_joy</td>\n",
       "      <td>ffn</td>\n",
       "      <td>song_joy , 0.633 , 0.622 , 0.621 , 0.596</td>\n",
       "    </tr>\n",
       "    <tr>\n",
       "      <th>2</th>\n",
       "      <td>nrc_joy</td>\n",
       "      <td>ffn</td>\n",
       "      <td>dialog_joy , 0.656 , 0.631 , 0.614 , 0.615</td>\n",
       "    </tr>\n",
       "    <tr>\n",
       "      <th>3</th>\n",
       "      <td>nrc_joy</td>\n",
       "      <td>ffn</td>\n",
       "      <td>friends_joy , 0.631 , 0.589 , 0.632 , 0.632</td>\n",
       "    </tr>\n",
       "    <tr>\n",
       "      <th>4</th>\n",
       "      <td>nrc_fear</td>\n",
       "      <td>ffn</td>\n",
       "      <td>nrc_fear , 0.765 , 0.731 , 0.736 , 0.739</td>\n",
       "    </tr>\n",
       "  </tbody>\n",
       "</table>\n",
       "</div>"
      ],
      "text/plain": [
       "  Training dataset Method  \\\n",
       "0          nrc_joy    ffn   \n",
       "1          nrc_joy    ffn   \n",
       "2          nrc_joy    ffn   \n",
       "3          nrc_joy    ffn   \n",
       "4         nrc_fear    ffn   \n",
       "\n",
       "  Evaluation results (Model accuracy F1 Lexion accuracy F1)  \n",
       "0            nrc_joy , 0.769 , 0.763 , 0.736 , 0.733         \n",
       "1           song_joy , 0.633 , 0.622 , 0.621 , 0.596         \n",
       "2         dialog_joy , 0.656 , 0.631 , 0.614 , 0.615         \n",
       "3        friends_joy , 0.631 , 0.589 , 0.632 , 0.632         \n",
       "4           nrc_fear , 0.765 , 0.731 , 0.736 , 0.739         "
      ]
     },
     "execution_count": 3,
     "metadata": {},
     "output_type": "execute_result"
    }
   ],
   "source": [
    "raw_df.head()"
   ]
  },
  {
   "cell_type": "code",
   "execution_count": 4,
   "metadata": {},
   "outputs": [],
   "source": [
    "def cleanScore(x):\n",
    "    if \",\" in x:\n",
    "        x = x.split(\",\")\n",
    "        \n",
    "        return x\n",
    "    else:\n",
    "        x = x.split(\" \")\n",
    "        x = [y for y in x if y!= '']\n",
    "        x = x[1:]\n",
    "        \n",
    "        return x"
   ]
  },
  {
   "cell_type": "code",
   "execution_count": 43,
   "metadata": {},
   "outputs": [
    {
     "data": {
      "text/html": [
       "<div>\n",
       "<style scoped>\n",
       "    .dataframe tbody tr th:only-of-type {\n",
       "        vertical-align: middle;\n",
       "    }\n",
       "\n",
       "    .dataframe tbody tr th {\n",
       "        vertical-align: top;\n",
       "    }\n",
       "\n",
       "    .dataframe thead th {\n",
       "        text-align: right;\n",
       "    }\n",
       "</style>\n",
       "<table border=\"1\" class=\"dataframe\">\n",
       "  <thead>\n",
       "    <tr style=\"text-align: right;\">\n",
       "      <th></th>\n",
       "      <th>trainData</th>\n",
       "      <th>method</th>\n",
       "      <th>testData</th>\n",
       "      <th>modelAcc</th>\n",
       "      <th>modelF1</th>\n",
       "      <th>lexiconAcc</th>\n",
       "      <th>lexiconF1</th>\n",
       "    </tr>\n",
       "  </thead>\n",
       "  <tbody>\n",
       "    <tr>\n",
       "      <th>0</th>\n",
       "      <td>nrc_joy</td>\n",
       "      <td>ffn</td>\n",
       "      <td>nrc_joy</td>\n",
       "      <td>0.769</td>\n",
       "      <td>0.763</td>\n",
       "      <td>0.736</td>\n",
       "      <td>0.733</td>\n",
       "    </tr>\n",
       "    <tr>\n",
       "      <th>1</th>\n",
       "      <td>nrc_joy</td>\n",
       "      <td>ffn</td>\n",
       "      <td>song_joy</td>\n",
       "      <td>0.633</td>\n",
       "      <td>0.622</td>\n",
       "      <td>0.621</td>\n",
       "      <td>0.596</td>\n",
       "    </tr>\n",
       "    <tr>\n",
       "      <th>2</th>\n",
       "      <td>nrc_joy</td>\n",
       "      <td>ffn</td>\n",
       "      <td>dialog_joy</td>\n",
       "      <td>0.656</td>\n",
       "      <td>0.631</td>\n",
       "      <td>0.614</td>\n",
       "      <td>0.615</td>\n",
       "    </tr>\n",
       "    <tr>\n",
       "      <th>3</th>\n",
       "      <td>nrc_joy</td>\n",
       "      <td>ffn</td>\n",
       "      <td>friends_joy</td>\n",
       "      <td>0.631</td>\n",
       "      <td>0.589</td>\n",
       "      <td>0.632</td>\n",
       "      <td>0.632</td>\n",
       "    </tr>\n",
       "    <tr>\n",
       "      <th>4</th>\n",
       "      <td>nrc_fear</td>\n",
       "      <td>ffn</td>\n",
       "      <td>nrc_fear</td>\n",
       "      <td>0.765</td>\n",
       "      <td>0.731</td>\n",
       "      <td>0.736</td>\n",
       "      <td>0.739</td>\n",
       "    </tr>\n",
       "  </tbody>\n",
       "</table>\n",
       "</div>"
      ],
      "text/plain": [
       "  trainData method      testData modelAcc  modelF1 lexiconAcc lexiconF1\n",
       "0   nrc_joy    ffn      nrc_joy    0.769    0.763      0.736      0.733\n",
       "1   nrc_joy    ffn     song_joy    0.633    0.622      0.621      0.596\n",
       "2   nrc_joy    ffn   dialog_joy    0.656    0.631      0.614      0.615\n",
       "3   nrc_joy    ffn  friends_joy    0.631    0.589      0.632      0.632\n",
       "4  nrc_fear    ffn     nrc_fear    0.765    0.731      0.736      0.739"
      ]
     },
     "execution_count": 43,
     "metadata": {},
     "output_type": "execute_result"
    }
   ],
   "source": [
    "new_df = raw_df.copy()\n",
    "new_df.columns = ['trainData','method','outputs']\n",
    "# df = df[~pd.isna(df.outputs)]  # Removing rows with missing scores\n",
    "new_df['scores'] = new_df.outputs.apply(lambda x : cleanScore(x))\n",
    "\n",
    "scores = new_df.scores.apply(pd.Series)\n",
    "scores.columns = ['testData','modelAcc','modelF1','lexiconAcc','lexiconF1']\n",
    "\n",
    "new_df = pd.concat([new_df, scores],axis = 1)\n",
    "new_df = new_df.filter(['trainData','method','testData','modelAcc','modelF1','lexiconAcc','lexiconF1'], axis = 1)\n",
    "\n",
    "new_df.head()"
   ]
  },
  {
   "cell_type": "code",
   "execution_count": 44,
   "metadata": {},
   "outputs": [],
   "source": [
    "df = new_df.copy()\n",
    "df.to_csv('new_df.csv')"
   ]
  },
  {
   "cell_type": "code",
   "execution_count": 45,
   "metadata": {},
   "outputs": [],
   "source": [
    "df['trainData'] = df.trainData.apply(lambda x : x.strip())\n",
    "df['method'] = df.method.apply(lambda x : x.strip())\n",
    "df['testData'] = df.testData.apply(lambda x : x.strip())\n",
    "df['modelAcc'] = df.modelAcc.apply(lambda x : float(x))\n",
    "df['modelF1'] = df.modelF1.apply(lambda x : float(x))\n",
    "df['lexiconAcc'] = df.lexiconAcc.apply(lambda x : float(x))\n",
    "df['lexiconF1'] = df.lexiconF1.apply(lambda x : float(x))"
   ]
  },
  {
   "cell_type": "code",
   "execution_count": 46,
   "metadata": {},
   "outputs": [],
   "source": [
    "df['Within'] = df.apply(lambda x : True if x.testData == x.trainData else False, axis = 1)"
   ]
  },
  {
   "cell_type": "code",
   "execution_count": 47,
   "metadata": {},
   "outputs": [
    {
     "data": {
      "text/html": [
       "<div>\n",
       "<style scoped>\n",
       "    .dataframe tbody tr th:only-of-type {\n",
       "        vertical-align: middle;\n",
       "    }\n",
       "\n",
       "    .dataframe tbody tr th {\n",
       "        vertical-align: top;\n",
       "    }\n",
       "\n",
       "    .dataframe thead th {\n",
       "        text-align: right;\n",
       "    }\n",
       "</style>\n",
       "<table border=\"1\" class=\"dataframe\">\n",
       "  <thead>\n",
       "    <tr style=\"text-align: right;\">\n",
       "      <th></th>\n",
       "      <th>trainData</th>\n",
       "      <th>method</th>\n",
       "      <th>testData</th>\n",
       "      <th>modelAcc</th>\n",
       "      <th>modelF1</th>\n",
       "      <th>lexiconAcc</th>\n",
       "      <th>lexiconF1</th>\n",
       "      <th>Within</th>\n",
       "    </tr>\n",
       "  </thead>\n",
       "  <tbody>\n",
       "    <tr>\n",
       "      <th>0</th>\n",
       "      <td>nrc_joy</td>\n",
       "      <td>ffn</td>\n",
       "      <td>nrc_joy</td>\n",
       "      <td>0.769</td>\n",
       "      <td>0.763</td>\n",
       "      <td>0.736</td>\n",
       "      <td>0.733</td>\n",
       "      <td>True</td>\n",
       "    </tr>\n",
       "    <tr>\n",
       "      <th>1</th>\n",
       "      <td>nrc_joy</td>\n",
       "      <td>ffn</td>\n",
       "      <td>song_joy</td>\n",
       "      <td>0.633</td>\n",
       "      <td>0.622</td>\n",
       "      <td>0.621</td>\n",
       "      <td>0.596</td>\n",
       "      <td>False</td>\n",
       "    </tr>\n",
       "    <tr>\n",
       "      <th>2</th>\n",
       "      <td>nrc_joy</td>\n",
       "      <td>ffn</td>\n",
       "      <td>dialog_joy</td>\n",
       "      <td>0.656</td>\n",
       "      <td>0.631</td>\n",
       "      <td>0.614</td>\n",
       "      <td>0.615</td>\n",
       "      <td>False</td>\n",
       "    </tr>\n",
       "    <tr>\n",
       "      <th>3</th>\n",
       "      <td>nrc_joy</td>\n",
       "      <td>ffn</td>\n",
       "      <td>friends_joy</td>\n",
       "      <td>0.631</td>\n",
       "      <td>0.589</td>\n",
       "      <td>0.632</td>\n",
       "      <td>0.632</td>\n",
       "      <td>False</td>\n",
       "    </tr>\n",
       "    <tr>\n",
       "      <th>4</th>\n",
       "      <td>nrc_fear</td>\n",
       "      <td>ffn</td>\n",
       "      <td>nrc_fear</td>\n",
       "      <td>0.765</td>\n",
       "      <td>0.731</td>\n",
       "      <td>0.736</td>\n",
       "      <td>0.739</td>\n",
       "      <td>True</td>\n",
       "    </tr>\n",
       "  </tbody>\n",
       "</table>\n",
       "</div>"
      ],
      "text/plain": [
       "  trainData method     testData  modelAcc  modelF1  lexiconAcc  lexiconF1  \\\n",
       "0   nrc_joy    ffn      nrc_joy     0.769    0.763       0.736      0.733   \n",
       "1   nrc_joy    ffn     song_joy     0.633    0.622       0.621      0.596   \n",
       "2   nrc_joy    ffn   dialog_joy     0.656    0.631       0.614      0.615   \n",
       "3   nrc_joy    ffn  friends_joy     0.631    0.589       0.632      0.632   \n",
       "4  nrc_fear    ffn     nrc_fear     0.765    0.731       0.736      0.739   \n",
       "\n",
       "   Within  \n",
       "0    True  \n",
       "1   False  \n",
       "2   False  \n",
       "3   False  \n",
       "4    True  "
      ]
     },
     "execution_count": 47,
     "metadata": {},
     "output_type": "execute_result"
    }
   ],
   "source": [
    "df.head()"
   ]
  },
  {
   "cell_type": "code",
   "execution_count": 49,
   "metadata": {},
   "outputs": [
    {
     "data": {
      "text/plain": [
       "D_BERT+mask                61\n",
       "BERT+ps                    61\n",
       "BERT+mask                  61\n",
       "D_BERT+ps                  61\n",
       "diversityLSTM+attention    61\n",
       "NN+DeepShap                61\n",
       "svm                        56\n",
       "ffn                        56\n",
       "BERT+deep                  52\n",
       "D_BERT+deep                52\n",
       "Name: method, dtype: int64"
      ]
     },
     "execution_count": 49,
     "metadata": {},
     "output_type": "execute_result"
    }
   ],
   "source": [
    "df.method.value_counts()"
   ]
  },
  {
   "cell_type": "code",
   "execution_count": 50,
   "metadata": {},
   "outputs": [
    {
     "data": {
      "text/plain": [
       "nrc_joy                   98\n",
       "amazon_finefood_subset    90\n",
       "amazon_toys_subset        90\n",
       "empathy                   72\n",
       "yelp_subset               72\n",
       "nrc_anger                 40\n",
       "nrc_fear                  40\n",
       "nrc_surprise              40\n",
       "nrc_sadness               40\n",
       "Name: trainData, dtype: int64"
      ]
     },
     "execution_count": 50,
     "metadata": {},
     "output_type": "execute_result"
    }
   ],
   "source": [
    "df.trainData.value_counts()"
   ]
  },
  {
   "cell_type": "code",
   "execution_count": 57,
   "metadata": {},
   "outputs": [],
   "source": [
    "df.to_csv('generalization_results.csv')"
   ]
  },
  {
   "cell_type": "markdown",
   "metadata": {},
   "source": [
    "## In sample Performance"
   ]
  },
  {
   "cell_type": "code",
   "execution_count": 51,
   "metadata": {},
   "outputs": [],
   "source": [
    "sub = df[df.Within == True]"
   ]
  },
  {
   "cell_type": "code",
   "execution_count": 52,
   "metadata": {},
   "outputs": [
    {
     "data": {
      "text/html": [
       "<div>\n",
       "<style scoped>\n",
       "    .dataframe tbody tr th:only-of-type {\n",
       "        vertical-align: middle;\n",
       "    }\n",
       "\n",
       "    .dataframe tbody tr th {\n",
       "        vertical-align: top;\n",
       "    }\n",
       "\n",
       "    .dataframe thead th {\n",
       "        text-align: right;\n",
       "    }\n",
       "</style>\n",
       "<table border=\"1\" class=\"dataframe\">\n",
       "  <thead>\n",
       "    <tr style=\"text-align: right;\">\n",
       "      <th></th>\n",
       "      <th>trainData</th>\n",
       "      <th>method</th>\n",
       "      <th>testData</th>\n",
       "      <th>modelAcc</th>\n",
       "      <th>modelF1</th>\n",
       "      <th>lexiconAcc</th>\n",
       "      <th>lexiconF1</th>\n",
       "      <th>Within</th>\n",
       "    </tr>\n",
       "  </thead>\n",
       "  <tbody>\n",
       "    <tr>\n",
       "      <th>0</th>\n",
       "      <td>nrc_joy</td>\n",
       "      <td>ffn</td>\n",
       "      <td>nrc_joy</td>\n",
       "      <td>0.769</td>\n",
       "      <td>0.763</td>\n",
       "      <td>0.736</td>\n",
       "      <td>0.733</td>\n",
       "      <td>True</td>\n",
       "    </tr>\n",
       "    <tr>\n",
       "      <th>4</th>\n",
       "      <td>nrc_fear</td>\n",
       "      <td>ffn</td>\n",
       "      <td>nrc_fear</td>\n",
       "      <td>0.765</td>\n",
       "      <td>0.731</td>\n",
       "      <td>0.736</td>\n",
       "      <td>0.739</td>\n",
       "      <td>True</td>\n",
       "    </tr>\n",
       "    <tr>\n",
       "      <th>8</th>\n",
       "      <td>nrc_anger</td>\n",
       "      <td>ffn</td>\n",
       "      <td>nrc_anger</td>\n",
       "      <td>0.652</td>\n",
       "      <td>0.542</td>\n",
       "      <td>0.691</td>\n",
       "      <td>0.706</td>\n",
       "      <td>True</td>\n",
       "    </tr>\n",
       "    <tr>\n",
       "      <th>12</th>\n",
       "      <td>nrc_sadness</td>\n",
       "      <td>ffn</td>\n",
       "      <td>nrc_sadness</td>\n",
       "      <td>0.670</td>\n",
       "      <td>0.597</td>\n",
       "      <td>0.669</td>\n",
       "      <td>0.671</td>\n",
       "      <td>True</td>\n",
       "    </tr>\n",
       "    <tr>\n",
       "      <th>16</th>\n",
       "      <td>nrc_surprise</td>\n",
       "      <td>ffn</td>\n",
       "      <td>nrc_surprise</td>\n",
       "      <td>0.717</td>\n",
       "      <td>0.676</td>\n",
       "      <td>0.666</td>\n",
       "      <td>0.671</td>\n",
       "      <td>True</td>\n",
       "    </tr>\n",
       "  </tbody>\n",
       "</table>\n",
       "</div>"
      ],
      "text/plain": [
       "       trainData method      testData  modelAcc  modelF1  lexiconAcc  \\\n",
       "0        nrc_joy    ffn       nrc_joy     0.769    0.763       0.736   \n",
       "4       nrc_fear    ffn      nrc_fear     0.765    0.731       0.736   \n",
       "8      nrc_anger    ffn     nrc_anger     0.652    0.542       0.691   \n",
       "12   nrc_sadness    ffn   nrc_sadness     0.670    0.597       0.669   \n",
       "16  nrc_surprise    ffn  nrc_surprise     0.717    0.676       0.666   \n",
       "\n",
       "    lexiconF1  Within  \n",
       "0       0.733    True  \n",
       "4       0.739    True  \n",
       "8       0.706    True  \n",
       "12      0.671    True  \n",
       "16      0.671    True  "
      ]
     },
     "execution_count": 52,
     "metadata": {},
     "output_type": "execute_result"
    }
   ],
   "source": [
    "sub.head()"
   ]
  },
  {
   "cell_type": "code",
   "execution_count": 53,
   "metadata": {},
   "outputs": [],
   "source": [
    "def getStats(x):\n",
    "    \n",
    "    output = []\n",
    "    \n",
    "    for i in ['modelAcc','modelF1','lexiconAcc','lexiconF1']:\n",
    "        output += [ np.round(np.mean(x[i]),2), np.round(np.std(x[i]),2) ]\n",
    "    \n",
    "    return output\n",
    "\n",
    "output = sub.groupby(['method']).apply(lambda x : getStats(x))\n",
    "output = output.reset_index()\n",
    "\n",
    "columnList = []\n",
    "\n",
    "for i in ['modelAcc','modelF1','lexiconAcc','lexiconF1']:\n",
    "    for j in ['mean','std']:\n",
    "        columnList.append(f'{i}_{j}')\n",
    "\n",
    "a = output[0].apply(pd.Series)\n",
    "a.columns = columnList\n",
    "\n",
    "\n",
    "output = pd.concat([output, a],axis = 1)"
   ]
  },
  {
   "cell_type": "code",
   "execution_count": 54,
   "metadata": {},
   "outputs": [
    {
     "name": "stdout",
     "output_type": "stream",
     "text": [
      "BERT+deep & 0.79+-0.09 & 0.78+-0.1 & 0.53+-0.03 & 0.46+-0.1 \\\n",
      "BERT+mask & 0.81+-0.1 & 0.8+-0.11 & 0.72+-0.07 & 0.71+-0.07 \\\n",
      "BERT+ps & 0.81+-0.1 & 0.8+-0.11 & 0.75+-0.09 & 0.75+-0.09 \\\n",
      "D_BERT+deep & 0.78+-0.09 & 0.77+-0.11 & 0.57+-0.04 & 0.52+-0.09 \\\n",
      "D_BERT+mask & 0.8+-0.1 & 0.79+-0.12 & 0.73+-0.09 & 0.72+-0.1 \\\n",
      "D_BERT+ps & 0.8+-0.1 & 0.79+-0.12 & 0.76+-0.09 & 0.76+-0.09 \\\n",
      "NN+DeepShap & 0.75+-0.09 & 0.73+-0.12 & 0.65+-0.08 & 0.58+-0.12 \\\n",
      "diversityLSTM+attention & 0.86+-0.13 & 0.81+-0.25 & 0.74+-0.09 & 0.73+-0.1 \\\n",
      "ffn & 0.79+-0.1 & 0.76+-0.15 & 0.77+-0.1 & 0.78+-0.12 \\\n",
      "svm & 0.8+-0.09 & 0.8+-0.11 & 0.79+-0.09 & 0.8+-0.11 \\\n"
     ]
    }
   ],
   "source": [
    "for i in range(len(output)):\n",
    "    \n",
    "    x = output.iloc[i]\n",
    "    \n",
    "    print(f\"{x.method} & {x.modelAcc_mean}+-{x.modelAcc_std} & {x.modelF1_mean}+-{x.modelF1_std} & {x.lexiconAcc_mean}+-{x.lexiconAcc_std} & {x.lexiconF1_mean}+-{x.lexiconF1_std} \\\\\")\n",
    "    \n",
    "    \n",
    "    "
   ]
  },
  {
   "cell_type": "markdown",
   "metadata": {
    "collapsed": "false"
   },
   "source": [
    "### Out of Sample Performance"
   ]
  },
  {
   "cell_type": "code",
   "execution_count": 55,
   "metadata": {},
   "outputs": [],
   "source": [
    "sub = df[df.Within == False]\n",
    "\n",
    "def getStats(x):\n",
    "    \n",
    "    output = []\n",
    "    \n",
    "    for i in ['modelAcc','modelF1','lexiconAcc','lexiconF1']:\n",
    "        output += [ np.round(np.mean(x[i]),2), np.round(np.std(x[i]),2) ]\n",
    "    \n",
    "    return output\n",
    "\n",
    "output = sub.groupby(['method']).apply(lambda x : getStats(x))\n",
    "output = output.reset_index()\n",
    "\n",
    "columnList = []\n",
    "\n",
    "for i in ['modelAcc','modelF1','lexiconAcc','lexiconF1']:\n",
    "    for j in ['mean','std']:\n",
    "        columnList.append(f'{i}_{j}')\n",
    "\n",
    "a = output[0].apply(pd.Series)\n",
    "a.columns = columnList\n",
    "\n",
    "\n",
    "output = pd.concat([output, a],axis = 1)"
   ]
  },
  {
   "cell_type": "code",
   "execution_count": 56,
   "metadata": {},
   "outputs": [
    {
     "name": "stdout",
     "output_type": "stream",
     "text": [
      "BERT+deep & 0.67+-0.11 & 0.63+-0.16 & 0.53+-0.04 & 0.49+-0.08 \\  \\hline\n",
      "BERT+mask & 0.69+-0.12 & 0.64+-0.17 & 0.6+-0.07 & 0.59+-0.09 \\  \\hline\n",
      "BERT+ps & 0.69+-0.12 & 0.64+-0.17 & 0.62+-0.09 & 0.61+-0.11 \\  \\hline\n",
      "D_BERT+deep & 0.68+-0.11 & 0.65+-0.15 & 0.55+-0.05 & 0.51+-0.09 \\  \\hline\n",
      "D_BERT+mask & 0.69+-0.12 & 0.66+-0.16 & 0.61+-0.09 & 0.61+-0.11 \\  \\hline\n",
      "D_BERT+ps & 0.69+-0.12 & 0.66+-0.16 & 0.64+-0.09 & 0.63+-0.09 \\  \\hline\n",
      "NN+DeepShap & 0.64+-0.09 & 0.6+-0.15 & 0.58+-0.06 & 0.52+-0.1 \\  \\hline\n",
      "diversityLSTM+attention & 0.62+-0.1 & 0.56+-0.19 & 0.6+-0.1 & 0.58+-0.12 \\  \\hline\n",
      "ffn & 0.66+-0.12 & 0.63+-0.21 & 0.66+-0.12 & 0.66+-0.15 \\  \\hline\n",
      "svm & 0.68+-0.11 & 0.68+-0.14 & 0.68+-0.11 & 0.68+-0.14 \\  \\hline\n"
     ]
    }
   ],
   "source": [
    "for i in range(len(output)):\n",
    "    \n",
    "    x = output.iloc[i]\n",
    "    \n",
    "    print(f\"{x.method} & {x.modelAcc_mean}+-{x.modelAcc_std} & {x.modelF1_mean}+-{x.modelF1_std} & {x.lexiconAcc_mean}+-{x.lexiconAcc_std} & {x.lexiconF1_mean}+-{x.lexiconF1_std} \\\\  \\hline\")\n",
    "    \n",
    "    "
   ]
  },
  {
   "cell_type": "code",
   "execution_count": null,
   "metadata": {},
   "outputs": [],
   "source": []
  }
 ],
 "metadata": {
  "kernelspec": {
   "display_name": "deep",
   "language": "python",
   "name": "deep"
  },
  "language_info": {
   "codemirror_mode": {
    "name": "ipython",
    "version": 3
   },
   "file_extension": ".py",
   "mimetype": "text/x-python",
   "name": "python",
   "nbconvert_exporter": "python",
   "pygments_lexer": "ipython3",
   "version": "3.7.8"
  }
 },
 "nbformat": 4,
 "nbformat_minor": 4
}
