{
 "cells": [
  {
   "cell_type": "code",
   "execution_count": 1,
   "metadata": {},
   "outputs": [],
   "source": [
    "import pandas as pd\n",
    "import numpy as np\n",
    "import sys\n",
    "import spacy\n",
    "sys.path.insert(0,\"/home/tjss/Final/embedding-lexica-creation/\")\n",
    "from FFN_SVM.utils import *\n",
    "\n",
    "nlp = spacy.load('/data2/link10/models/fasttext/en_fasttext_crawl')\n",
    "from preprocessing.preprocess import *\n",
    "dataFolder = '/data2/Datasets/Raw'"
   ]
  },
  {
   "cell_type": "code",
   "execution_count": 2,
   "metadata": {},
   "outputs": [],
   "source": [
    "lexiconDatasets = [\"nrc_joy\", \"nrc_sadness\", \"nrc_anger\", \"nrc_surprise\", \"nrc_fear\", \"empathy\", \"amazon_finefood_subset\", \"amazon_toys_subset\", \"yelp_subset\"]\n",
    "bg_size = 500\n",
    "path_to_save = \"/home/tjss/Final/embedding-lexica-creation/FFN_DeepShap/backgrounds_500/\"\n",
    "\n",
    "for lexiconDataset in lexiconDatasets:\n",
    "    trainDf, devDf, testDf = splitData(getData(dataFolder,lexiconDataset))\n",
    "    ones_bg = trainDf[trainDf['label'] == 1].sample(n = bg_size//2)\n",
    "    zeros_bg = trainDf[trainDf['label'] == 0].sample(n = bg_size//2)\n",
    "    bg = pd.concat([ones_bg, zeros_bg], ignore_index=True)\n",
    "    bg.to_csv(path_to_save + lexiconDataset+\"_\"+str(bg_size)+\"_bg.csv\", index = False)"
   ]
  }
 ],
 "metadata": {
  "kernelspec": {
   "display_name": "Python 3",
   "language": "python",
   "name": "python3"
  },
  "language_info": {
   "codemirror_mode": {
    "name": "ipython",
    "version": 3
   },
   "file_extension": ".py",
   "mimetype": "text/x-python",
   "name": "python",
   "nbconvert_exporter": "python",
   "pygments_lexer": "ipython3",
   "version": "3.7.7"
  }
 },
 "nbformat": 4,
 "nbformat_minor": 4
}
