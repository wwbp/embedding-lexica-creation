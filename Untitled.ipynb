{
 "cells": [
  {
   "cell_type": "code",
   "execution_count": 30,
   "metadata": {},
   "outputs": [],
   "source": [
    "import pandas as pd\n",
    "\n",
    "data_distil = pd.read_csv('lexicon_V.csv')"
   ]
  },
  {
   "cell_type": "code",
   "execution_count": 20,
   "metadata": {},
   "outputs": [],
   "source": [
    "data_bert = pd.read_csv('V.csv')"
   ]
  },
  {
   "cell_type": "code",
   "execution_count": 31,
   "metadata": {},
   "outputs": [],
   "source": [
    "data_distil = data_distil[['Word','Value']]"
   ]
  },
  {
   "cell_type": "code",
   "execution_count": 32,
   "metadata": {},
   "outputs": [],
   "source": [
    "data_distil = data_distil.rename(columns={'Value':'Distil'})"
   ]
  },
  {
   "cell_type": "code",
   "execution_count": 39,
   "metadata": {},
   "outputs": [],
   "source": [
    "ffn = pd.read_csv('V_ratings.tsv', sep='\\t', index_col=0)"
   ]
  },
  {
   "cell_type": "code",
   "execution_count": 41,
   "metadata": {},
   "outputs": [],
   "source": [
    "ffn.columns = ['Word', 'FFN']"
   ]
  },
  {
   "cell_type": "code",
   "execution_count": 44,
   "metadata": {},
   "outputs": [],
   "source": [
    "result = pd.merge(result, ffn, on=['Word'])"
   ]
  },
  {
   "cell_type": "code",
   "execution_count": 54,
   "metadata": {},
   "outputs": [],
   "source": [
    "meanstar = pd.read_csv('vad_eb_ratings.txt')"
   ]
  },
  {
   "cell_type": "code",
   "execution_count": 51,
   "metadata": {},
   "outputs": [
    {
     "data": {
      "text/html": [
       "<div>\n",
       "<style scoped>\n",
       "    .dataframe tbody tr th:only-of-type {\n",
       "        vertical-align: middle;\n",
       "    }\n",
       "\n",
       "    .dataframe tbody tr th {\n",
       "        vertical-align: top;\n",
       "    }\n",
       "\n",
       "    .dataframe thead th {\n",
       "        text-align: right;\n",
       "    }\n",
       "</style>\n",
       "<table border=\"1\" class=\"dataframe\">\n",
       "  <thead>\n",
       "    <tr style=\"text-align: right;\">\n",
       "      <th></th>\n",
       "      <th>feat</th>\n",
       "      <th>avg(vad_eb.V)</th>\n",
       "      <th>avg(vad_eb.A)</th>\n",
       "      <th>avg(vad_eb.D)</th>\n",
       "      <th>avg(vad_eb.V &gt; 3)</th>\n",
       "      <th>avg(vad_eb.A &gt; 3)</th>\n",
       "      <th>avg(vad_eb.D &gt; 3)</th>\n",
       "    </tr>\n",
       "  </thead>\n",
       "  <tbody>\n",
       "    <tr>\n",
       "      <th>0</th>\n",
       "      <td>!</td>\n",
       "      <td>3.191308</td>\n",
       "      <td>3.653972</td>\n",
       "      <td>3.242150</td>\n",
       "      <td>0.5935</td>\n",
       "      <td>0.9766</td>\n",
       "      <td>0.8037</td>\n",
       "    </tr>\n",
       "    <tr>\n",
       "      <th>1</th>\n",
       "      <td>\"</td>\n",
       "      <td>2.947384</td>\n",
       "      <td>3.081023</td>\n",
       "      <td>3.092206</td>\n",
       "      <td>0.3407</td>\n",
       "      <td>0.4804</td>\n",
       "      <td>0.5676</td>\n",
       "    </tr>\n",
       "    <tr>\n",
       "      <th>2</th>\n",
       "      <td>#</td>\n",
       "      <td>3.048333</td>\n",
       "      <td>2.825000</td>\n",
       "      <td>3.018333</td>\n",
       "      <td>0.5000</td>\n",
       "      <td>0.0000</td>\n",
       "      <td>0.3333</td>\n",
       "    </tr>\n",
       "    <tr>\n",
       "      <th>3</th>\n",
       "      <td>#118</td>\n",
       "      <td>2.500000</td>\n",
       "      <td>2.880000</td>\n",
       "      <td>2.880000</td>\n",
       "      <td>0.0000</td>\n",
       "      <td>0.0000</td>\n",
       "      <td>0.0000</td>\n",
       "    </tr>\n",
       "    <tr>\n",
       "      <th>4</th>\n",
       "      <td>#128</td>\n",
       "      <td>3.000000</td>\n",
       "      <td>2.700000</td>\n",
       "      <td>2.900000</td>\n",
       "      <td>0.0000</td>\n",
       "      <td>0.0000</td>\n",
       "      <td>0.0000</td>\n",
       "    </tr>\n",
       "    <tr>\n",
       "      <th>...</th>\n",
       "      <td>...</td>\n",
       "      <td>...</td>\n",
       "      <td>...</td>\n",
       "      <td>...</td>\n",
       "      <td>...</td>\n",
       "      <td>...</td>\n",
       "      <td>...</td>\n",
       "    </tr>\n",
       "    <tr>\n",
       "      <th>17309</th>\n",
       "      <td>‘</td>\n",
       "      <td>2.935000</td>\n",
       "      <td>3.229375</td>\n",
       "      <td>3.056875</td>\n",
       "      <td>0.3125</td>\n",
       "      <td>0.6250</td>\n",
       "      <td>0.3750</td>\n",
       "    </tr>\n",
       "    <tr>\n",
       "      <th>17310</th>\n",
       "      <td>’</td>\n",
       "      <td>3.030954</td>\n",
       "      <td>3.081985</td>\n",
       "      <td>3.094923</td>\n",
       "      <td>0.4691</td>\n",
       "      <td>0.5077</td>\n",
       "      <td>0.5851</td>\n",
       "    </tr>\n",
       "    <tr>\n",
       "      <th>17311</th>\n",
       "      <td>“</td>\n",
       "      <td>2.968766</td>\n",
       "      <td>3.079733</td>\n",
       "      <td>3.086730</td>\n",
       "      <td>0.3168</td>\n",
       "      <td>0.4784</td>\n",
       "      <td>0.5229</td>\n",
       "    </tr>\n",
       "    <tr>\n",
       "      <th>17312</th>\n",
       "      <td>”</td>\n",
       "      <td>2.973138</td>\n",
       "      <td>3.081633</td>\n",
       "      <td>3.088597</td>\n",
       "      <td>0.3176</td>\n",
       "      <td>0.4860</td>\n",
       "      <td>0.5319</td>\n",
       "    </tr>\n",
       "    <tr>\n",
       "      <th>17313</th>\n",
       "      <td>…</td>\n",
       "      <td>2.953250</td>\n",
       "      <td>3.128000</td>\n",
       "      <td>2.967750</td>\n",
       "      <td>0.3000</td>\n",
       "      <td>0.5500</td>\n",
       "      <td>0.4250</td>\n",
       "    </tr>\n",
       "  </tbody>\n",
       "</table>\n",
       "<p>17314 rows × 7 columns</p>\n",
       "</div>"
      ],
      "text/plain": [
       "       feat  avg(vad_eb.V)  avg(vad_eb.A)  avg(vad_eb.D)  avg(vad_eb.V > 3)  \\\n",
       "0         !       3.191308       3.653972       3.242150             0.5935   \n",
       "1         \"       2.947384       3.081023       3.092206             0.3407   \n",
       "2         #       3.048333       2.825000       3.018333             0.5000   \n",
       "3      #118       2.500000       2.880000       2.880000             0.0000   \n",
       "4      #128       3.000000       2.700000       2.900000             0.0000   \n",
       "...     ...            ...            ...            ...                ...   \n",
       "17309     ‘       2.935000       3.229375       3.056875             0.3125   \n",
       "17310     ’       3.030954       3.081985       3.094923             0.4691   \n",
       "17311     “       2.968766       3.079733       3.086730             0.3168   \n",
       "17312     ”       2.973138       3.081633       3.088597             0.3176   \n",
       "17313     …       2.953250       3.128000       2.967750             0.3000   \n",
       "\n",
       "       avg(vad_eb.A > 3)  avg(vad_eb.D > 3)  \n",
       "0                 0.9766             0.8037  \n",
       "1                 0.4804             0.5676  \n",
       "2                 0.0000             0.3333  \n",
       "3                 0.0000             0.0000  \n",
       "4                 0.0000             0.0000  \n",
       "...                  ...                ...  \n",
       "17309             0.6250             0.3750  \n",
       "17310             0.5077             0.5851  \n",
       "17311             0.4784             0.5229  \n",
       "17312             0.4860             0.5319  \n",
       "17313             0.5500             0.4250  \n",
       "\n",
       "[17314 rows x 7 columns]"
      ]
     },
     "execution_count": 51,
     "metadata": {},
     "output_type": "execute_result"
    }
   ],
   "source": [
    "meanstar"
   ]
  },
  {
   "cell_type": "code",
   "execution_count": 55,
   "metadata": {},
   "outputs": [],
   "source": [
    "meanstar = meanstar[['feat', 'avg(vad_eb.V)', 'avg(vad_eb.V > 3)']]"
   ]
  },
  {
   "cell_type": "code",
   "execution_count": 58,
   "metadata": {},
   "outputs": [],
   "source": [
    "meanstar = meanstar.rename(columns={'feat':'Word'})"
   ]
  },
  {
   "cell_type": "code",
   "execution_count": 61,
   "metadata": {},
   "outputs": [],
   "source": [
    "result = pd.merge(result, meanstar, on=['Word'])"
   ]
  },
  {
   "cell_type": "code",
   "execution_count": 62,
   "metadata": {},
   "outputs": [
    {
     "data": {
      "text/html": [
       "<div>\n",
       "<style scoped>\n",
       "    .dataframe tbody tr th:only-of-type {\n",
       "        vertical-align: middle;\n",
       "    }\n",
       "\n",
       "    .dataframe tbody tr th {\n",
       "        vertical-align: top;\n",
       "    }\n",
       "\n",
       "    .dataframe thead th {\n",
       "        text-align: right;\n",
       "    }\n",
       "</style>\n",
       "<table border=\"1\" class=\"dataframe\">\n",
       "  <thead>\n",
       "    <tr style=\"text-align: right;\">\n",
       "      <th></th>\n",
       "      <th>Word</th>\n",
       "      <th>Distil</th>\n",
       "      <th>Bert</th>\n",
       "      <th>Gold</th>\n",
       "      <th>Frequency</th>\n",
       "      <th>Mean Star</th>\n",
       "      <th>FFN</th>\n",
       "      <th>avg(vad_eb.V)</th>\n",
       "      <th>avg(vad_eb.V &gt; 3)</th>\n",
       "    </tr>\n",
       "  </thead>\n",
       "  <tbody>\n",
       "    <tr>\n",
       "      <th>0</th>\n",
       "      <td>abusive</td>\n",
       "      <td>-0.000018</td>\n",
       "      <td>-0.000005</td>\n",
       "      <td>2.05</td>\n",
       "      <td>1</td>\n",
       "      <td>1.900000</td>\n",
       "      <td>2.606444</td>\n",
       "      <td>1.900000</td>\n",
       "      <td>0.0</td>\n",
       "    </tr>\n",
       "    <tr>\n",
       "      <th>1</th>\n",
       "      <td>foul</td>\n",
       "      <td>-0.000014</td>\n",
       "      <td>-0.000008</td>\n",
       "      <td>3.00</td>\n",
       "      <td>1</td>\n",
       "      <td>1.900000</td>\n",
       "      <td>2.606444</td>\n",
       "      <td>1.900000</td>\n",
       "      <td>0.0</td>\n",
       "    </tr>\n",
       "    <tr>\n",
       "      <th>2</th>\n",
       "      <td>widow</td>\n",
       "      <td>-0.000013</td>\n",
       "      <td>-0.000009</td>\n",
       "      <td>2.28</td>\n",
       "      <td>1</td>\n",
       "      <td>1.880000</td>\n",
       "      <td>2.607078</td>\n",
       "      <td>1.880000</td>\n",
       "      <td>0.0</td>\n",
       "    </tr>\n",
       "    <tr>\n",
       "      <th>3</th>\n",
       "      <td>suck</td>\n",
       "      <td>-0.000013</td>\n",
       "      <td>-0.000017</td>\n",
       "      <td>3.71</td>\n",
       "      <td>3</td>\n",
       "      <td>1.900000</td>\n",
       "      <td>2.606444</td>\n",
       "      <td>1.900000</td>\n",
       "      <td>0.0</td>\n",
       "    </tr>\n",
       "    <tr>\n",
       "      <th>4</th>\n",
       "      <td>cache</td>\n",
       "      <td>-0.000013</td>\n",
       "      <td>-0.000009</td>\n",
       "      <td>4.95</td>\n",
       "      <td>1</td>\n",
       "      <td>2.250000</td>\n",
       "      <td>3.007616</td>\n",
       "      <td>2.250000</td>\n",
       "      <td>0.0</td>\n",
       "    </tr>\n",
       "    <tr>\n",
       "      <th>...</th>\n",
       "      <td>...</td>\n",
       "      <td>...</td>\n",
       "      <td>...</td>\n",
       "      <td>...</td>\n",
       "      <td>...</td>\n",
       "      <td>...</td>\n",
       "      <td>...</td>\n",
       "      <td>...</td>\n",
       "      <td>...</td>\n",
       "    </tr>\n",
       "    <tr>\n",
       "      <th>4895</th>\n",
       "      <td>escort</td>\n",
       "      <td>0.000007</td>\n",
       "      <td>0.000003</td>\n",
       "      <td>5.35</td>\n",
       "      <td>1</td>\n",
       "      <td>3.800000</td>\n",
       "      <td>3.154940</td>\n",
       "      <td>3.800000</td>\n",
       "      <td>1.0</td>\n",
       "    </tr>\n",
       "    <tr>\n",
       "      <th>4896</th>\n",
       "      <td>delighted</td>\n",
       "      <td>0.000008</td>\n",
       "      <td>0.000002</td>\n",
       "      <td>7.74</td>\n",
       "      <td>4</td>\n",
       "      <td>3.552500</td>\n",
       "      <td>5.770362</td>\n",
       "      <td>3.870000</td>\n",
       "      <td>1.0</td>\n",
       "    </tr>\n",
       "    <tr>\n",
       "      <th>4897</th>\n",
       "      <td>glorious</td>\n",
       "      <td>0.000008</td>\n",
       "      <td>0.000002</td>\n",
       "      <td>6.90</td>\n",
       "      <td>2</td>\n",
       "      <td>3.610000</td>\n",
       "      <td>4.443999</td>\n",
       "      <td>3.610000</td>\n",
       "      <td>1.0</td>\n",
       "    </tr>\n",
       "    <tr>\n",
       "      <th>4898</th>\n",
       "      <td>marvelous</td>\n",
       "      <td>0.000009</td>\n",
       "      <td>0.000009</td>\n",
       "      <td>7.21</td>\n",
       "      <td>3</td>\n",
       "      <td>3.866667</td>\n",
       "      <td>5.284846</td>\n",
       "      <td>3.866667</td>\n",
       "      <td>1.0</td>\n",
       "    </tr>\n",
       "    <tr>\n",
       "      <th>4899</th>\n",
       "      <td>superb</td>\n",
       "      <td>0.000011</td>\n",
       "      <td>0.000012</td>\n",
       "      <td>7.00</td>\n",
       "      <td>1</td>\n",
       "      <td>4.600000</td>\n",
       "      <td>5.027498</td>\n",
       "      <td>4.600000</td>\n",
       "      <td>1.0</td>\n",
       "    </tr>\n",
       "  </tbody>\n",
       "</table>\n",
       "<p>4900 rows × 9 columns</p>\n",
       "</div>"
      ],
      "text/plain": [
       "           Word    Distil      Bert  Gold  Frequency  Mean Star       FFN  \\\n",
       "0       abusive -0.000018 -0.000005  2.05          1   1.900000  2.606444   \n",
       "1          foul -0.000014 -0.000008  3.00          1   1.900000  2.606444   \n",
       "2         widow -0.000013 -0.000009  2.28          1   1.880000  2.607078   \n",
       "3          suck -0.000013 -0.000017  3.71          3   1.900000  2.606444   \n",
       "4         cache -0.000013 -0.000009  4.95          1   2.250000  3.007616   \n",
       "...         ...       ...       ...   ...        ...        ...       ...   \n",
       "4895     escort  0.000007  0.000003  5.35          1   3.800000  3.154940   \n",
       "4896  delighted  0.000008  0.000002  7.74          4   3.552500  5.770362   \n",
       "4897   glorious  0.000008  0.000002  6.90          2   3.610000  4.443999   \n",
       "4898  marvelous  0.000009  0.000009  7.21          3   3.866667  5.284846   \n",
       "4899     superb  0.000011  0.000012  7.00          1   4.600000  5.027498   \n",
       "\n",
       "      avg(vad_eb.V)  avg(vad_eb.V > 3)  \n",
       "0          1.900000                0.0  \n",
       "1          1.900000                0.0  \n",
       "2          1.880000                0.0  \n",
       "3          1.900000                0.0  \n",
       "4          2.250000                0.0  \n",
       "...             ...                ...  \n",
       "4895       3.800000                1.0  \n",
       "4896       3.870000                1.0  \n",
       "4897       3.610000                1.0  \n",
       "4898       3.866667                1.0  \n",
       "4899       4.600000                1.0  \n",
       "\n",
       "[4900 rows x 9 columns]"
      ]
     },
     "execution_count": 62,
     "metadata": {},
     "output_type": "execute_result"
    }
   ],
   "source": [
    "result"
   ]
  },
  {
   "cell_type": "code",
   "execution_count": 63,
   "metadata": {},
   "outputs": [
    {
     "data": {
      "text/plain": [
       "(0.5801741471903881, 0.0)"
      ]
     },
     "execution_count": 63,
     "metadata": {},
     "output_type": "execute_result"
    }
   ],
   "source": [
    "from scipy import stats\n",
    "\n",
    "stats.pearsonr(result['Distil'], result['Bert'])"
   ]
  },
  {
   "cell_type": "code",
   "execution_count": 70,
   "metadata": {},
   "outputs": [
    {
     "data": {
      "text/plain": [
       "SpearmanrResult(correlation=0.5475496223485748, pvalue=0.0)"
      ]
     },
     "execution_count": 70,
     "metadata": {},
     "output_type": "execute_result"
    }
   ],
   "source": [
    "stats.spearmanr(result['Distil'], result['Bert'])"
   ]
  },
  {
   "cell_type": "code",
   "execution_count": 64,
   "metadata": {},
   "outputs": [
    {
     "data": {
      "text/plain": [
       "(0.4556339766742851, 8.125295915232102e-250)"
      ]
     },
     "execution_count": 64,
     "metadata": {},
     "output_type": "execute_result"
    }
   ],
   "source": [
    "stats.pearsonr(result['Distil'], result['Gold'])"
   ]
  },
  {
   "cell_type": "code",
   "execution_count": 71,
   "metadata": {},
   "outputs": [
    {
     "data": {
      "text/plain": [
       "SpearmanrResult(correlation=0.4194593671658797, pvalue=4.064782680704163e-208)"
      ]
     },
     "execution_count": 71,
     "metadata": {},
     "output_type": "execute_result"
    }
   ],
   "source": [
    "stats.spearmanr(result['Distil'], result['Gold'])"
   ]
  },
  {
   "cell_type": "code",
   "execution_count": 65,
   "metadata": {},
   "outputs": [
    {
     "data": {
      "text/plain": [
       "(0.4102357890334047, 2.8205042755826915e-198)"
      ]
     },
     "execution_count": 65,
     "metadata": {},
     "output_type": "execute_result"
    }
   ],
   "source": [
    "stats.pearsonr(result['Mean Star'], result['Gold'])"
   ]
  },
  {
   "cell_type": "code",
   "execution_count": 72,
   "metadata": {},
   "outputs": [
    {
     "data": {
      "text/plain": [
       "SpearmanrResult(correlation=0.363128696247368, pvalue=1.2577785301344825e-152)"
      ]
     },
     "execution_count": 72,
     "metadata": {},
     "output_type": "execute_result"
    }
   ],
   "source": [
    "stats.spearmanr(result['Mean Star'], result['Gold'])"
   ]
  },
  {
   "cell_type": "code",
   "execution_count": 66,
   "metadata": {},
   "outputs": [
    {
     "data": {
      "text/plain": [
       "(0.6319108439975036, 0.0)"
      ]
     },
     "execution_count": 66,
     "metadata": {},
     "output_type": "execute_result"
    }
   ],
   "source": [
    "stats.pearsonr(result['FFN'], result['Gold'])"
   ]
  },
  {
   "cell_type": "code",
   "execution_count": 73,
   "metadata": {},
   "outputs": [
    {
     "data": {
      "text/plain": [
       "SpearmanrResult(correlation=0.6873307145137525, pvalue=0.0)"
      ]
     },
     "execution_count": 73,
     "metadata": {},
     "output_type": "execute_result"
    }
   ],
   "source": [
    "stats.spearmanr(result['FFN'], result['Gold'])"
   ]
  },
  {
   "cell_type": "code",
   "execution_count": 67,
   "metadata": {},
   "outputs": [
    {
     "data": {
      "text/plain": [
       "(0.39681887746596073, 1.6689978928783603e-184)"
      ]
     },
     "execution_count": 67,
     "metadata": {},
     "output_type": "execute_result"
    }
   ],
   "source": [
    "stats.pearsonr(result['avg(vad_eb.V)'], result['Gold'])"
   ]
  },
  {
   "cell_type": "code",
   "execution_count": 68,
   "metadata": {},
   "outputs": [
    {
     "data": {
      "text/plain": [
       "(0.96430409857462, 0.0)"
      ]
     },
     "execution_count": 68,
     "metadata": {},
     "output_type": "execute_result"
    }
   ],
   "source": [
    "stats.pearsonr(result['avg(vad_eb.V)'], result['Mean Star'])"
   ]
  },
  {
   "cell_type": "code",
   "execution_count": 33,
   "metadata": {},
   "outputs": [
    {
     "data": {
      "text/html": [
       "<div>\n",
       "<style scoped>\n",
       "    .dataframe tbody tr th:only-of-type {\n",
       "        vertical-align: middle;\n",
       "    }\n",
       "\n",
       "    .dataframe tbody tr th {\n",
       "        vertical-align: top;\n",
       "    }\n",
       "\n",
       "    .dataframe thead th {\n",
       "        text-align: right;\n",
       "    }\n",
       "</style>\n",
       "<table border=\"1\" class=\"dataframe\">\n",
       "  <thead>\n",
       "    <tr style=\"text-align: right;\">\n",
       "      <th></th>\n",
       "      <th>Word</th>\n",
       "      <th>Distil</th>\n",
       "    </tr>\n",
       "  </thead>\n",
       "  <tbody>\n",
       "    <tr>\n",
       "      <th>0</th>\n",
       "      <td>abusive</td>\n",
       "      <td>-0.000018</td>\n",
       "    </tr>\n",
       "    <tr>\n",
       "      <th>1</th>\n",
       "      <td>claw</td>\n",
       "      <td>-0.000015</td>\n",
       "    </tr>\n",
       "    <tr>\n",
       "      <th>2</th>\n",
       "      <td>foul</td>\n",
       "      <td>-0.000014</td>\n",
       "    </tr>\n",
       "    <tr>\n",
       "      <th>3</th>\n",
       "      <td>widow</td>\n",
       "      <td>-0.000013</td>\n",
       "    </tr>\n",
       "    <tr>\n",
       "      <th>4</th>\n",
       "      <td>suck</td>\n",
       "      <td>-0.000013</td>\n",
       "    </tr>\n",
       "    <tr>\n",
       "      <th>...</th>\n",
       "      <td>...</td>\n",
       "      <td>...</td>\n",
       "    </tr>\n",
       "    <tr>\n",
       "      <th>5449</th>\n",
       "      <td>delighted</td>\n",
       "      <td>0.000008</td>\n",
       "    </tr>\n",
       "    <tr>\n",
       "      <th>5450</th>\n",
       "      <td>glorious</td>\n",
       "      <td>0.000008</td>\n",
       "    </tr>\n",
       "    <tr>\n",
       "      <th>5451</th>\n",
       "      <td>aqua</td>\n",
       "      <td>0.000008</td>\n",
       "    </tr>\n",
       "    <tr>\n",
       "      <th>5452</th>\n",
       "      <td>marvelous</td>\n",
       "      <td>0.000009</td>\n",
       "    </tr>\n",
       "    <tr>\n",
       "      <th>5453</th>\n",
       "      <td>superb</td>\n",
       "      <td>0.000011</td>\n",
       "    </tr>\n",
       "  </tbody>\n",
       "</table>\n",
       "<p>5454 rows × 2 columns</p>\n",
       "</div>"
      ],
      "text/plain": [
       "           Word    Distil\n",
       "0       abusive -0.000018\n",
       "1          claw -0.000015\n",
       "2          foul -0.000014\n",
       "3         widow -0.000013\n",
       "4          suck -0.000013\n",
       "...         ...       ...\n",
       "5449  delighted  0.000008\n",
       "5450   glorious  0.000008\n",
       "5451       aqua  0.000008\n",
       "5452  marvelous  0.000009\n",
       "5453     superb  0.000011\n",
       "\n",
       "[5454 rows x 2 columns]"
      ]
     },
     "execution_count": 33,
     "metadata": {},
     "output_type": "execute_result"
    }
   ],
   "source": [
    "data_distil"
   ]
  },
  {
   "cell_type": "code",
   "execution_count": 36,
   "metadata": {},
   "outputs": [
    {
     "data": {
      "text/html": [
       "<div>\n",
       "<style scoped>\n",
       "    .dataframe tbody tr th:only-of-type {\n",
       "        vertical-align: middle;\n",
       "    }\n",
       "\n",
       "    .dataframe tbody tr th {\n",
       "        vertical-align: top;\n",
       "    }\n",
       "\n",
       "    .dataframe thead th {\n",
       "        text-align: right;\n",
       "    }\n",
       "</style>\n",
       "<table border=\"1\" class=\"dataframe\">\n",
       "  <thead>\n",
       "    <tr style=\"text-align: right;\">\n",
       "      <th></th>\n",
       "      <th>Word</th>\n",
       "      <th>Bert</th>\n",
       "      <th>Gold</th>\n",
       "      <th>Frequency</th>\n",
       "      <th>Mean Star</th>\n",
       "    </tr>\n",
       "  </thead>\n",
       "  <tbody>\n",
       "    <tr>\n",
       "      <th>0</th>\n",
       "      <td>torture</td>\n",
       "      <td>-1.810000e-05</td>\n",
       "      <td>1.40</td>\n",
       "      <td>2</td>\n",
       "      <td>1.885000</td>\n",
       "    </tr>\n",
       "    <tr>\n",
       "      <th>1</th>\n",
       "      <td>murder</td>\n",
       "      <td>-8.620000e-06</td>\n",
       "      <td>1.48</td>\n",
       "      <td>6</td>\n",
       "      <td>2.416667</td>\n",
       "    </tr>\n",
       "    <tr>\n",
       "      <th>2</th>\n",
       "      <td>racism</td>\n",
       "      <td>-6.740000e-06</td>\n",
       "      <td>1.48</td>\n",
       "      <td>3</td>\n",
       "      <td>2.603333</td>\n",
       "    </tr>\n",
       "    <tr>\n",
       "      <th>3</th>\n",
       "      <td>homicide</td>\n",
       "      <td>-6.670000e-06</td>\n",
       "      <td>1.50</td>\n",
       "      <td>4</td>\n",
       "      <td>2.600000</td>\n",
       "    </tr>\n",
       "    <tr>\n",
       "      <th>4</th>\n",
       "      <td>abuse</td>\n",
       "      <td>-7.510000e-06</td>\n",
       "      <td>1.53</td>\n",
       "      <td>16</td>\n",
       "      <td>2.686250</td>\n",
       "    </tr>\n",
       "    <tr>\n",
       "      <th>...</th>\n",
       "      <td>...</td>\n",
       "      <td>...</td>\n",
       "      <td>...</td>\n",
       "      <td>...</td>\n",
       "      <td>...</td>\n",
       "    </tr>\n",
       "    <tr>\n",
       "      <th>5449</th>\n",
       "      <td>fun</td>\n",
       "      <td>2.870000e-06</td>\n",
       "      <td>8.37</td>\n",
       "      <td>26</td>\n",
       "      <td>3.374231</td>\n",
       "    </tr>\n",
       "    <tr>\n",
       "      <th>5450</th>\n",
       "      <td>enjoyment</td>\n",
       "      <td>5.770000e-06</td>\n",
       "      <td>8.37</td>\n",
       "      <td>4</td>\n",
       "      <td>3.585000</td>\n",
       "    </tr>\n",
       "    <tr>\n",
       "      <th>5451</th>\n",
       "      <td>happy</td>\n",
       "      <td>3.020000e-06</td>\n",
       "      <td>8.47</td>\n",
       "      <td>24</td>\n",
       "      <td>3.342083</td>\n",
       "    </tr>\n",
       "    <tr>\n",
       "      <th>5452</th>\n",
       "      <td>happiness</td>\n",
       "      <td>-1.380000e-06</td>\n",
       "      <td>8.48</td>\n",
       "      <td>2</td>\n",
       "      <td>3.100000</td>\n",
       "    </tr>\n",
       "    <tr>\n",
       "      <th>5453</th>\n",
       "      <td>vacation</td>\n",
       "      <td>-3.360000e-07</td>\n",
       "      <td>8.53</td>\n",
       "      <td>13</td>\n",
       "      <td>3.190000</td>\n",
       "    </tr>\n",
       "  </tbody>\n",
       "</table>\n",
       "<p>5454 rows × 5 columns</p>\n",
       "</div>"
      ],
      "text/plain": [
       "           Word          Bert  Gold  Frequency  Mean Star\n",
       "0       torture -1.810000e-05  1.40          2   1.885000\n",
       "1        murder -8.620000e-06  1.48          6   2.416667\n",
       "2        racism -6.740000e-06  1.48          3   2.603333\n",
       "3      homicide -6.670000e-06  1.50          4   2.600000\n",
       "4         abuse -7.510000e-06  1.53         16   2.686250\n",
       "...         ...           ...   ...        ...        ...\n",
       "5449        fun  2.870000e-06  8.37         26   3.374231\n",
       "5450  enjoyment  5.770000e-06  8.37          4   3.585000\n",
       "5451      happy  3.020000e-06  8.47         24   3.342083\n",
       "5452  happiness -1.380000e-06  8.48          2   3.100000\n",
       "5453   vacation -3.360000e-07  8.53         13   3.190000\n",
       "\n",
       "[5454 rows x 5 columns]"
      ]
     },
     "execution_count": 36,
     "metadata": {},
     "output_type": "execute_result"
    }
   ],
   "source": [
    "data_bert"
   ]
  },
  {
   "cell_type": "code",
   "execution_count": 22,
   "metadata": {},
   "outputs": [],
   "source": [
    "data_bert = data_bert[['Word', 'Value', 'V.Mean.Sum', 'Frequency', 'Mean Star']]"
   ]
  },
  {
   "cell_type": "code",
   "execution_count": 24,
   "metadata": {},
   "outputs": [],
   "source": [
    "data_bert = data_bert.rename(columns={'Value': 'Bert'})"
   ]
  },
  {
   "cell_type": "code",
   "execution_count": 26,
   "metadata": {},
   "outputs": [],
   "source": [
    "data_bert = data_bert.rename(columns={'V.Mean.Sum':'Gold'})"
   ]
  },
  {
   "cell_type": "code",
   "execution_count": 34,
   "metadata": {},
   "outputs": [],
   "source": [
    "result = pd.merge(data_distil, data_bert, on=['Word'])"
   ]
  },
  {
   "cell_type": "code",
   "execution_count": 35,
   "metadata": {},
   "outputs": [
    {
     "data": {
      "text/html": [
       "<div>\n",
       "<style scoped>\n",
       "    .dataframe tbody tr th:only-of-type {\n",
       "        vertical-align: middle;\n",
       "    }\n",
       "\n",
       "    .dataframe tbody tr th {\n",
       "        vertical-align: top;\n",
       "    }\n",
       "\n",
       "    .dataframe thead th {\n",
       "        text-align: right;\n",
       "    }\n",
       "</style>\n",
       "<table border=\"1\" class=\"dataframe\">\n",
       "  <thead>\n",
       "    <tr style=\"text-align: right;\">\n",
       "      <th></th>\n",
       "      <th>Word</th>\n",
       "      <th>Distil</th>\n",
       "      <th>Bert</th>\n",
       "      <th>Gold</th>\n",
       "      <th>Frequency</th>\n",
       "      <th>Mean Star</th>\n",
       "    </tr>\n",
       "  </thead>\n",
       "  <tbody>\n",
       "    <tr>\n",
       "      <th>0</th>\n",
       "      <td>abusive</td>\n",
       "      <td>-0.000018</td>\n",
       "      <td>-0.000005</td>\n",
       "      <td>2.05</td>\n",
       "      <td>1</td>\n",
       "      <td>1.900000</td>\n",
       "    </tr>\n",
       "    <tr>\n",
       "      <th>1</th>\n",
       "      <td>claw</td>\n",
       "      <td>-0.000015</td>\n",
       "      <td>-0.000013</td>\n",
       "      <td>4.65</td>\n",
       "      <td>1</td>\n",
       "      <td>2.100000</td>\n",
       "    </tr>\n",
       "    <tr>\n",
       "      <th>2</th>\n",
       "      <td>foul</td>\n",
       "      <td>-0.000014</td>\n",
       "      <td>-0.000008</td>\n",
       "      <td>3.00</td>\n",
       "      <td>1</td>\n",
       "      <td>1.900000</td>\n",
       "    </tr>\n",
       "    <tr>\n",
       "      <th>3</th>\n",
       "      <td>widow</td>\n",
       "      <td>-0.000013</td>\n",
       "      <td>-0.000009</td>\n",
       "      <td>2.28</td>\n",
       "      <td>1</td>\n",
       "      <td>1.880000</td>\n",
       "    </tr>\n",
       "    <tr>\n",
       "      <th>4</th>\n",
       "      <td>suck</td>\n",
       "      <td>-0.000013</td>\n",
       "      <td>-0.000017</td>\n",
       "      <td>3.71</td>\n",
       "      <td>3</td>\n",
       "      <td>1.900000</td>\n",
       "    </tr>\n",
       "    <tr>\n",
       "      <th>...</th>\n",
       "      <td>...</td>\n",
       "      <td>...</td>\n",
       "      <td>...</td>\n",
       "      <td>...</td>\n",
       "      <td>...</td>\n",
       "      <td>...</td>\n",
       "    </tr>\n",
       "    <tr>\n",
       "      <th>5449</th>\n",
       "      <td>delighted</td>\n",
       "      <td>0.000008</td>\n",
       "      <td>0.000002</td>\n",
       "      <td>7.74</td>\n",
       "      <td>4</td>\n",
       "      <td>3.552500</td>\n",
       "    </tr>\n",
       "    <tr>\n",
       "      <th>5450</th>\n",
       "      <td>glorious</td>\n",
       "      <td>0.000008</td>\n",
       "      <td>0.000002</td>\n",
       "      <td>6.90</td>\n",
       "      <td>2</td>\n",
       "      <td>3.610000</td>\n",
       "    </tr>\n",
       "    <tr>\n",
       "      <th>5451</th>\n",
       "      <td>aqua</td>\n",
       "      <td>0.000008</td>\n",
       "      <td>0.000005</td>\n",
       "      <td>6.50</td>\n",
       "      <td>1</td>\n",
       "      <td>3.600000</td>\n",
       "    </tr>\n",
       "    <tr>\n",
       "      <th>5452</th>\n",
       "      <td>marvelous</td>\n",
       "      <td>0.000009</td>\n",
       "      <td>0.000009</td>\n",
       "      <td>7.21</td>\n",
       "      <td>3</td>\n",
       "      <td>3.866667</td>\n",
       "    </tr>\n",
       "    <tr>\n",
       "      <th>5453</th>\n",
       "      <td>superb</td>\n",
       "      <td>0.000011</td>\n",
       "      <td>0.000012</td>\n",
       "      <td>7.00</td>\n",
       "      <td>1</td>\n",
       "      <td>4.600000</td>\n",
       "    </tr>\n",
       "  </tbody>\n",
       "</table>\n",
       "<p>5454 rows × 6 columns</p>\n",
       "</div>"
      ],
      "text/plain": [
       "           Word    Distil      Bert  Gold  Frequency  Mean Star\n",
       "0       abusive -0.000018 -0.000005  2.05          1   1.900000\n",
       "1          claw -0.000015 -0.000013  4.65          1   2.100000\n",
       "2          foul -0.000014 -0.000008  3.00          1   1.900000\n",
       "3         widow -0.000013 -0.000009  2.28          1   1.880000\n",
       "4          suck -0.000013 -0.000017  3.71          3   1.900000\n",
       "...         ...       ...       ...   ...        ...        ...\n",
       "5449  delighted  0.000008  0.000002  7.74          4   3.552500\n",
       "5450   glorious  0.000008  0.000002  6.90          2   3.610000\n",
       "5451       aqua  0.000008  0.000005  6.50          1   3.600000\n",
       "5452  marvelous  0.000009  0.000009  7.21          3   3.866667\n",
       "5453     superb  0.000011  0.000012  7.00          1   4.600000\n",
       "\n",
       "[5454 rows x 6 columns]"
      ]
     },
     "execution_count": 35,
     "metadata": {},
     "output_type": "execute_result"
    }
   ],
   "source": [
    "result"
   ]
  },
  {
   "cell_type": "code",
   "execution_count": 5,
   "metadata": {},
   "outputs": [],
   "source": [
    "data = pd.concat([data, pd.DataFrame(columns=['Frequency', 'Mean Star'])])"
   ]
  },
  {
   "cell_type": "code",
   "execution_count": 7,
   "metadata": {},
   "outputs": [
    {
     "name": "stderr",
     "output_type": "stream",
     "text": [
      "/Users/nil/anaconda3/envs/rating/lib/python3.7/site-packages/ipykernel_launcher.py:14: SettingWithCopyWarning: \n",
      "A value is trying to be set on a copy of a slice from a DataFrame\n",
      "\n",
      "See the caveats in the documentation: https://pandas.pydata.org/pandas-docs/stable/user_guide/indexing.html#returning-a-view-versus-a-copy\n",
      "  \n",
      "/Users/nil/anaconda3/envs/rating/lib/python3.7/site-packages/ipykernel_launcher.py:15: SettingWithCopyWarning: \n",
      "A value is trying to be set on a copy of a slice from a DataFrame\n",
      "\n",
      "See the caveats in the documentation: https://pandas.pydata.org/pandas-docs/stable/user_guide/indexing.html#returning-a-view-versus-a-copy\n",
      "  from ipykernel import kernelapp as app\n"
     ]
    }
   ],
   "source": [
    "import transformers\n",
    "tokenizer = transformers.BertTokenizer.from_pretrained('bert-base-uncased', do_lower_case=True)\n",
    "\n",
    "emobank = pd.read_csv('data/emobank/emobank.csv')\n",
    "for i in range(len(data['Word'])):\n",
    "    word = data['Word'][i]\n",
    "    fre = 0\n",
    "    value = 0\n",
    "    for k in range(len(emobank['essay'])):\n",
    "        sent = emobank['essay'][k]\n",
    "        if word in tokenizer.tokenize(sent):\n",
    "            fre += 1\n",
    "            value += emobank['V'][k]\n",
    "    data['Frequency'][i] = fre\n",
    "    data['Mean Star'][i] = value/fre"
   ]
  },
  {
   "cell_type": "code",
   "execution_count": 69,
   "metadata": {},
   "outputs": [],
   "source": [
    "result.to_csv('total_V.csv')"
   ]
  },
  {
   "cell_type": "code",
   "execution_count": 12,
   "metadata": {},
   "outputs": [
    {
     "name": "stdout",
     "output_type": "stream",
     "text": [
      "(0.6521633411204067, 0.0)\n",
      "(0.39144835538542905, 3.3623565646306646e-199)\n",
      "(0.3893433633914151, 6.678108252266396e-197)\n"
     ]
    }
   ],
   "source": [
    "from scipy import stats\n",
    "\n",
    "print(stats.pearsonr(data['Value'], data['Mean Star']))\n",
    "print(stats.pearsonr(data['Value'], data['V.Mean.Sum']))\n",
    "print(stats.pearsonr(data['V.Mean.Sum'], data['Mean Star']))"
   ]
  },
  {
   "cell_type": "code",
   "execution_count": 13,
   "metadata": {},
   "outputs": [
    {
     "name": "stdout",
     "output_type": "stream",
     "text": [
      "SpearmanrResult(correlation=0.6247007813818168, pvalue=0.0)\n",
      "SpearmanrResult(correlation=0.35245565042770255, pvalue=2.805896213318129e-159)\n",
      "SpearmanrResult(correlation=0.3513178578993308, pvalue=3.3997071940134655e-158)\n"
     ]
    }
   ],
   "source": [
    "print(stats.spearmanr(data['Value'], data['Mean Star']))\n",
    "print(stats.spearmanr(data['Value'], data['V.Mean.Sum']))\n",
    "print(stats.spearmanr(data['V.Mean.Sum'], data['Mean Star']))"
   ]
  }
 ],
 "metadata": {
  "kernelspec": {
   "display_name": "Python 3.7.7 64-bit ('rating': conda)",
   "language": "python",
   "name": "python37764bitratingconda9d45a2d1870a4902913bcc14c9b7e596"
  },
  "language_info": {
   "codemirror_mode": {
    "name": "ipython",
    "version": 3
   },
   "file_extension": ".py",
   "mimetype": "text/x-python",
   "name": "python",
   "nbconvert_exporter": "python",
   "pygments_lexer": "ipython3",
   "version": "3.7.7"
  }
 },
 "nbformat": 4,
 "nbformat_minor": 4
}
