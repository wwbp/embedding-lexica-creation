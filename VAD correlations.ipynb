{
 "cells": [
  {
   "cell_type": "code",
   "execution_count": 1,
   "metadata": {
    "collapsed": true
   },
   "outputs": [],
   "source": [
    "%matplotlib inline\n",
    "import numpy as np\n",
    "import pandas as pd\n",
    "import matplotlib.pyplot as plt"
   ]
  },
  {
   "cell_type": "markdown",
   "metadata": {},
   "source": [
    "# Datasets"
   ]
  },
  {
   "cell_type": "code",
   "execution_count": 2,
   "metadata": {},
   "outputs": [
    {
     "name": "stdout",
     "output_type": "stream",
     "text": [
      "(13915, 4)\n"
     ]
    },
    {
     "data": {
      "text/html": [
       "<div>\n",
       "<style>\n",
       "    .dataframe thead tr:only-child th {\n",
       "        text-align: right;\n",
       "    }\n",
       "\n",
       "    .dataframe thead th {\n",
       "        text-align: left;\n",
       "    }\n",
       "\n",
       "    .dataframe tbody tr th {\n",
       "        vertical-align: top;\n",
       "    }\n",
       "</style>\n",
       "<table border=\"1\" class=\"dataframe\">\n",
       "  <thead>\n",
       "    <tr style=\"text-align: right;\">\n",
       "      <th></th>\n",
       "      <th>Word</th>\n",
       "      <th>V.Mean.Sum</th>\n",
       "      <th>A.Mean.Sum</th>\n",
       "      <th>D.Mean.Sum</th>\n",
       "    </tr>\n",
       "  </thead>\n",
       "  <tbody>\n",
       "    <tr>\n",
       "      <th>1</th>\n",
       "      <td>aardvark</td>\n",
       "      <td>6.26</td>\n",
       "      <td>2.41</td>\n",
       "      <td>4.27</td>\n",
       "    </tr>\n",
       "    <tr>\n",
       "      <th>2</th>\n",
       "      <td>abalone</td>\n",
       "      <td>5.30</td>\n",
       "      <td>2.65</td>\n",
       "      <td>4.95</td>\n",
       "    </tr>\n",
       "    <tr>\n",
       "      <th>3</th>\n",
       "      <td>abandon</td>\n",
       "      <td>2.84</td>\n",
       "      <td>3.73</td>\n",
       "      <td>3.32</td>\n",
       "    </tr>\n",
       "    <tr>\n",
       "      <th>4</th>\n",
       "      <td>abandonment</td>\n",
       "      <td>2.63</td>\n",
       "      <td>4.95</td>\n",
       "      <td>2.64</td>\n",
       "    </tr>\n",
       "    <tr>\n",
       "      <th>5</th>\n",
       "      <td>abbey</td>\n",
       "      <td>5.85</td>\n",
       "      <td>2.20</td>\n",
       "      <td>5.00</td>\n",
       "    </tr>\n",
       "  </tbody>\n",
       "</table>\n",
       "</div>"
      ],
      "text/plain": [
       "          Word  V.Mean.Sum  A.Mean.Sum  D.Mean.Sum\n",
       "1     aardvark        6.26        2.41        4.27\n",
       "2      abalone        5.30        2.65        4.95\n",
       "3      abandon        2.84        3.73        3.32\n",
       "4  abandonment        2.63        4.95        2.64\n",
       "5        abbey        5.85        2.20        5.00"
      ]
     },
     "execution_count": 2,
     "metadata": {},
     "output_type": "execute_result"
    }
   ],
   "source": [
    "vad_gold_df = pd.read_csv('data/Ratings_Warriner_et_al.csv', index_col=0)\n",
    "vad_gold_df = vad_gold_df[['Word', 'V.Mean.Sum', 'A.Mean.Sum', 'D.Mean.Sum']]\n",
    "print(vad_gold_df.shape)\n",
    "vad_gold_df.head()"
   ]
  },
  {
   "cell_type": "code",
   "execution_count": 3,
   "metadata": {},
   "outputs": [
    {
     "name": "stdout",
     "output_type": "stream",
     "text": [
      "(17314, 7)\n"
     ]
    },
    {
     "data": {
      "text/html": [
       "<div>\n",
       "<style>\n",
       "    .dataframe thead tr:only-child th {\n",
       "        text-align: right;\n",
       "    }\n",
       "\n",
       "    .dataframe thead th {\n",
       "        text-align: left;\n",
       "    }\n",
       "\n",
       "    .dataframe tbody tr th {\n",
       "        vertical-align: top;\n",
       "    }\n",
       "</style>\n",
       "<table border=\"1\" class=\"dataframe\">\n",
       "  <thead>\n",
       "    <tr style=\"text-align: right;\">\n",
       "      <th></th>\n",
       "      <th>feat</th>\n",
       "      <th>avg(vad_eb.V)</th>\n",
       "      <th>avg(vad_eb.A)</th>\n",
       "      <th>avg(vad_eb.D)</th>\n",
       "      <th>avg(vad_eb.V &gt; 3)</th>\n",
       "      <th>avg(vad_eb.A &gt; 3)</th>\n",
       "      <th>avg(vad_eb.D &gt; 3)</th>\n",
       "    </tr>\n",
       "  </thead>\n",
       "  <tbody>\n",
       "    <tr>\n",
       "      <th>0</th>\n",
       "      <td>!</td>\n",
       "      <td>3.191308</td>\n",
       "      <td>3.653972</td>\n",
       "      <td>3.242150</td>\n",
       "      <td>0.5935</td>\n",
       "      <td>0.9766</td>\n",
       "      <td>0.8037</td>\n",
       "    </tr>\n",
       "    <tr>\n",
       "      <th>1</th>\n",
       "      <td>\"</td>\n",
       "      <td>2.947384</td>\n",
       "      <td>3.081023</td>\n",
       "      <td>3.092206</td>\n",
       "      <td>0.3407</td>\n",
       "      <td>0.4804</td>\n",
       "      <td>0.5676</td>\n",
       "    </tr>\n",
       "    <tr>\n",
       "      <th>2</th>\n",
       "      <td>#</td>\n",
       "      <td>3.048333</td>\n",
       "      <td>2.825000</td>\n",
       "      <td>3.018333</td>\n",
       "      <td>0.5000</td>\n",
       "      <td>0.0000</td>\n",
       "      <td>0.3333</td>\n",
       "    </tr>\n",
       "    <tr>\n",
       "      <th>3</th>\n",
       "      <td>#118</td>\n",
       "      <td>2.500000</td>\n",
       "      <td>2.880000</td>\n",
       "      <td>2.880000</td>\n",
       "      <td>0.0000</td>\n",
       "      <td>0.0000</td>\n",
       "      <td>0.0000</td>\n",
       "    </tr>\n",
       "    <tr>\n",
       "      <th>4</th>\n",
       "      <td>#128</td>\n",
       "      <td>3.000000</td>\n",
       "      <td>2.700000</td>\n",
       "      <td>2.900000</td>\n",
       "      <td>0.0000</td>\n",
       "      <td>0.0000</td>\n",
       "      <td>0.0000</td>\n",
       "    </tr>\n",
       "  </tbody>\n",
       "</table>\n",
       "</div>"
      ],
      "text/plain": [
       "   feat  avg(vad_eb.V)  avg(vad_eb.A)  avg(vad_eb.D)  avg(vad_eb.V > 3)  \\\n",
       "0     !       3.191308       3.653972       3.242150             0.5935   \n",
       "1     \"       2.947384       3.081023       3.092206             0.3407   \n",
       "2     #       3.048333       2.825000       3.018333             0.5000   \n",
       "3  #118       2.500000       2.880000       2.880000             0.0000   \n",
       "4  #128       3.000000       2.700000       2.900000             0.0000   \n",
       "\n",
       "   avg(vad_eb.A > 3)  avg(vad_eb.D > 3)  \n",
       "0             0.9766             0.8037  \n",
       "1             0.4804             0.5676  \n",
       "2             0.0000             0.3333  \n",
       "3             0.0000             0.0000  \n",
       "4             0.0000             0.0000  "
      ]
     },
     "execution_count": 3,
     "metadata": {},
     "output_type": "execute_result"
    }
   ],
   "source": [
    "mean_ratings_df = pd.read_csv('lexica/mean_ratings/vad_eb_ratings.csv')\n",
    "print(mean_ratings_df.shape)\n",
    "mean_ratings_df.head()"
   ]
  },
  {
   "cell_type": "code",
   "execution_count": 4,
   "metadata": {},
   "outputs": [
    {
     "name": "stdout",
     "output_type": "stream",
     "text": [
      "(17314, 2)\n"
     ]
    },
    {
     "data": {
      "text/html": [
       "<div>\n",
       "<style>\n",
       "    .dataframe thead tr:only-child th {\n",
       "        text-align: right;\n",
       "    }\n",
       "\n",
       "    .dataframe thead th {\n",
       "        text-align: left;\n",
       "    }\n",
       "\n",
       "    .dataframe tbody tr th {\n",
       "        vertical-align: top;\n",
       "    }\n",
       "</style>\n",
       "<table border=\"1\" class=\"dataframe\">\n",
       "  <thead>\n",
       "    <tr style=\"text-align: right;\">\n",
       "      <th></th>\n",
       "      <th>term</th>\n",
       "      <th>weight</th>\n",
       "    </tr>\n",
       "    <tr>\n",
       "      <th>id</th>\n",
       "      <th></th>\n",
       "      <th></th>\n",
       "    </tr>\n",
       "  </thead>\n",
       "  <tbody>\n",
       "    <tr>\n",
       "      <th>1</th>\n",
       "      <td>remember</td>\n",
       "      <td>0.404901</td>\n",
       "    </tr>\n",
       "    <tr>\n",
       "      <th>2</th>\n",
       "      <td>what</td>\n",
       "      <td>0.204138</td>\n",
       "    </tr>\n",
       "    <tr>\n",
       "      <th>3</th>\n",
       "      <td>she</td>\n",
       "      <td>0.437373</td>\n",
       "    </tr>\n",
       "    <tr>\n",
       "      <th>4</th>\n",
       "      <td>said</td>\n",
       "      <td>-0.178460</td>\n",
       "    </tr>\n",
       "    <tr>\n",
       "      <th>5</th>\n",
       "      <td>in</td>\n",
       "      <td>0.153463</td>\n",
       "    </tr>\n",
       "  </tbody>\n",
       "</table>\n",
       "</div>"
      ],
      "text/plain": [
       "        term    weight\n",
       "id                    \n",
       "1   remember  0.404901\n",
       "2       what  0.204138\n",
       "3        she  0.437373\n",
       "4       said -0.178460\n",
       "5         in  0.153463"
      ]
     },
     "execution_count": 4,
     "metadata": {},
     "output_type": "execute_result"
    }
   ],
   "source": [
    "regression_V_df = pd.read_csv('lexica/regression_weights/dd_VLex.csv', index_col=0)\n",
    "regression_V_df = regression_V_df[regression_V_df['term'] != '_intercept']\n",
    "regression_V_df = regression_V_df[['term', 'weight']]\n",
    "print(regression_V_df.shape)\n",
    "regression_V_df.head()"
   ]
  },
  {
   "cell_type": "code",
   "execution_count": 5,
   "metadata": {},
   "outputs": [
    {
     "name": "stdout",
     "output_type": "stream",
     "text": [
      "(17314, 3)\n"
     ]
    },
    {
     "data": {
      "text/html": [
       "<div>\n",
       "<style>\n",
       "    .dataframe thead tr:only-child th {\n",
       "        text-align: right;\n",
       "    }\n",
       "\n",
       "    .dataframe thead th {\n",
       "        text-align: left;\n",
       "    }\n",
       "\n",
       "    .dataframe tbody tr th {\n",
       "        vertical-align: top;\n",
       "    }\n",
       "</style>\n",
       "<table border=\"1\" class=\"dataframe\">\n",
       "  <thead>\n",
       "    <tr style=\"text-align: right;\">\n",
       "      <th></th>\n",
       "      <th>term</th>\n",
       "      <th>category</th>\n",
       "      <th>weight</th>\n",
       "    </tr>\n",
       "    <tr>\n",
       "      <th>id</th>\n",
       "      <th></th>\n",
       "      <th></th>\n",
       "      <th></th>\n",
       "    </tr>\n",
       "  </thead>\n",
       "  <tbody>\n",
       "    <tr>\n",
       "      <th>1</th>\n",
       "      <td>remember</td>\n",
       "      <td>A</td>\n",
       "      <td>-0.067515</td>\n",
       "    </tr>\n",
       "    <tr>\n",
       "      <th>2</th>\n",
       "      <td>what</td>\n",
       "      <td>A</td>\n",
       "      <td>0.229162</td>\n",
       "    </tr>\n",
       "    <tr>\n",
       "      <th>3</th>\n",
       "      <td>she</td>\n",
       "      <td>A</td>\n",
       "      <td>0.279720</td>\n",
       "    </tr>\n",
       "    <tr>\n",
       "      <th>4</th>\n",
       "      <td>said</td>\n",
       "      <td>A</td>\n",
       "      <td>-0.253638</td>\n",
       "    </tr>\n",
       "    <tr>\n",
       "      <th>5</th>\n",
       "      <td>in</td>\n",
       "      <td>A</td>\n",
       "      <td>-0.158744</td>\n",
       "    </tr>\n",
       "  </tbody>\n",
       "</table>\n",
       "</div>"
      ],
      "text/plain": [
       "        term category    weight\n",
       "id                             \n",
       "1   remember        A -0.067515\n",
       "2       what        A  0.229162\n",
       "3        she        A  0.279720\n",
       "4       said        A -0.253638\n",
       "5         in        A -0.158744"
      ]
     },
     "execution_count": 5,
     "metadata": {},
     "output_type": "execute_result"
    }
   ],
   "source": [
    "regression_A_df = pd.read_csv('lexica/regression_weights/dd_ALex.csv', index_col=0)\n",
    "regression_A_df = regression_A_df[regression_A_df['term'] != '_intercept']\n",
    "regression_V_df = regression_A_df[['term', 'weight']]\n",
    "print(regression_A_df.shape)\n",
    "regression_A_df.head()"
   ]
  },
  {
   "cell_type": "code",
   "execution_count": 6,
   "metadata": {},
   "outputs": [
    {
     "name": "stdout",
     "output_type": "stream",
     "text": [
      "(17314, 2)\n"
     ]
    },
    {
     "data": {
      "text/html": [
       "<div>\n",
       "<style>\n",
       "    .dataframe thead tr:only-child th {\n",
       "        text-align: right;\n",
       "    }\n",
       "\n",
       "    .dataframe thead th {\n",
       "        text-align: left;\n",
       "    }\n",
       "\n",
       "    .dataframe tbody tr th {\n",
       "        vertical-align: top;\n",
       "    }\n",
       "</style>\n",
       "<table border=\"1\" class=\"dataframe\">\n",
       "  <thead>\n",
       "    <tr style=\"text-align: right;\">\n",
       "      <th></th>\n",
       "      <th>term</th>\n",
       "      <th>weight</th>\n",
       "    </tr>\n",
       "    <tr>\n",
       "      <th>id</th>\n",
       "      <th></th>\n",
       "      <th></th>\n",
       "    </tr>\n",
       "  </thead>\n",
       "  <tbody>\n",
       "    <tr>\n",
       "      <th>1</th>\n",
       "      <td>remember</td>\n",
       "      <td>0.063661</td>\n",
       "    </tr>\n",
       "    <tr>\n",
       "      <th>2</th>\n",
       "      <td>what</td>\n",
       "      <td>0.008771</td>\n",
       "    </tr>\n",
       "    <tr>\n",
       "      <th>3</th>\n",
       "      <td>she</td>\n",
       "      <td>-0.138049</td>\n",
       "    </tr>\n",
       "    <tr>\n",
       "      <th>4</th>\n",
       "      <td>said</td>\n",
       "      <td>0.138291</td>\n",
       "    </tr>\n",
       "    <tr>\n",
       "      <th>5</th>\n",
       "      <td>in</td>\n",
       "      <td>-0.013571</td>\n",
       "    </tr>\n",
       "  </tbody>\n",
       "</table>\n",
       "</div>"
      ],
      "text/plain": [
       "        term    weight\n",
       "id                    \n",
       "1   remember  0.063661\n",
       "2       what  0.008771\n",
       "3        she -0.138049\n",
       "4       said  0.138291\n",
       "5         in -0.013571"
      ]
     },
     "execution_count": 6,
     "metadata": {},
     "output_type": "execute_result"
    }
   ],
   "source": [
    "regression_D_df = pd.read_csv('lexica/regression_weights/dd_DLex.csv', index_col=0)\n",
    "regression_D_df = regression_D_df[regression_D_df['term'] != '_intercept']\n",
    "regression_D_df = regression_D_df[['term', 'weight']]\n",
    "print(regression_D_df.shape)\n",
    "regression_D_df.head()"
   ]
  },
  {
   "cell_type": "code",
   "execution_count": 7,
   "metadata": {},
   "outputs": [
    {
     "name": "stdout",
     "output_type": "stream",
     "text": [
      "(15398, 2)\n"
     ]
    },
    {
     "data": {
      "text/html": [
       "<div>\n",
       "<style>\n",
       "    .dataframe thead tr:only-child th {\n",
       "        text-align: right;\n",
       "    }\n",
       "\n",
       "    .dataframe thead th {\n",
       "        text-align: left;\n",
       "    }\n",
       "\n",
       "    .dataframe tbody tr th {\n",
       "        vertical-align: top;\n",
       "    }\n",
       "</style>\n",
       "<table border=\"1\" class=\"dataframe\">\n",
       "  <thead>\n",
       "    <tr style=\"text-align: right;\">\n",
       "      <th></th>\n",
       "      <th>tokens</th>\n",
       "      <th>ratings</th>\n",
       "    </tr>\n",
       "  </thead>\n",
       "  <tbody>\n",
       "    <tr>\n",
       "      <th>0</th>\n",
       "      <td>fluted</td>\n",
       "      <td>3.020292</td>\n",
       "    </tr>\n",
       "    <tr>\n",
       "      <th>1</th>\n",
       "      <td>danger</td>\n",
       "      <td>2.606444</td>\n",
       "    </tr>\n",
       "    <tr>\n",
       "      <th>2</th>\n",
       "      <td>55</td>\n",
       "      <td>3.033551</td>\n",
       "    </tr>\n",
       "    <tr>\n",
       "      <th>3</th>\n",
       "      <td>speaking</td>\n",
       "      <td>2.647767</td>\n",
       "    </tr>\n",
       "    <tr>\n",
       "      <th>4</th>\n",
       "      <td>photo</td>\n",
       "      <td>3.438868</td>\n",
       "    </tr>\n",
       "  </tbody>\n",
       "</table>\n",
       "</div>"
      ],
      "text/plain": [
       "     tokens   ratings\n",
       "0    fluted  3.020292\n",
       "1    danger  2.606444\n",
       "2        55  3.033551\n",
       "3  speaking  2.647767\n",
       "4     photo  3.438868"
      ]
     },
     "execution_count": 7,
     "metadata": {},
     "output_type": "execute_result"
    }
   ],
   "source": [
    "mixed_ffn_V_df = pd.read_csv('lexica/mixed_level_ffn/V_ratings.tsv', sep='\\t', index_col=0)\n",
    "print(mixed_ffn_V_df.shape)\n",
    "mixed_ffn_V_df.head()"
   ]
  },
  {
   "cell_type": "code",
   "execution_count": 8,
   "metadata": {},
   "outputs": [
    {
     "name": "stdout",
     "output_type": "stream",
     "text": [
      "(15398, 2)\n"
     ]
    },
    {
     "data": {
      "text/html": [
       "<div>\n",
       "<style>\n",
       "    .dataframe thead tr:only-child th {\n",
       "        text-align: right;\n",
       "    }\n",
       "\n",
       "    .dataframe thead th {\n",
       "        text-align: left;\n",
       "    }\n",
       "\n",
       "    .dataframe tbody tr th {\n",
       "        vertical-align: top;\n",
       "    }\n",
       "</style>\n",
       "<table border=\"1\" class=\"dataframe\">\n",
       "  <thead>\n",
       "    <tr style=\"text-align: right;\">\n",
       "      <th></th>\n",
       "      <th>tokens</th>\n",
       "      <th>ratings</th>\n",
       "    </tr>\n",
       "  </thead>\n",
       "  <tbody>\n",
       "    <tr>\n",
       "      <th>0</th>\n",
       "      <td>fluted</td>\n",
       "      <td>2.916160</td>\n",
       "    </tr>\n",
       "    <tr>\n",
       "      <th>1</th>\n",
       "      <td>danger</td>\n",
       "      <td>3.331011</td>\n",
       "    </tr>\n",
       "    <tr>\n",
       "      <th>2</th>\n",
       "      <td>55</td>\n",
       "      <td>2.906806</td>\n",
       "    </tr>\n",
       "    <tr>\n",
       "      <th>3</th>\n",
       "      <td>speaking</td>\n",
       "      <td>3.141276</td>\n",
       "    </tr>\n",
       "    <tr>\n",
       "      <th>4</th>\n",
       "      <td>photo</td>\n",
       "      <td>2.919937</td>\n",
       "    </tr>\n",
       "  </tbody>\n",
       "</table>\n",
       "</div>"
      ],
      "text/plain": [
       "     tokens   ratings\n",
       "0    fluted  2.916160\n",
       "1    danger  3.331011\n",
       "2        55  2.906806\n",
       "3  speaking  3.141276\n",
       "4     photo  2.919937"
      ]
     },
     "execution_count": 8,
     "metadata": {},
     "output_type": "execute_result"
    }
   ],
   "source": [
    "mixed_ffn_A_df = pd.read_csv('lexica/mixed_level_ffn/A_ratings.tsv', sep='\\t', index_col=0)\n",
    "print(mixed_ffn_A_df.shape)\n",
    "mixed_ffn_A_df.head()"
   ]
  },
  {
   "cell_type": "code",
   "execution_count": 9,
   "metadata": {},
   "outputs": [
    {
     "name": "stdout",
     "output_type": "stream",
     "text": [
      "(15398, 2)\n"
     ]
    },
    {
     "data": {
      "text/html": [
       "<div>\n",
       "<style>\n",
       "    .dataframe thead tr:only-child th {\n",
       "        text-align: right;\n",
       "    }\n",
       "\n",
       "    .dataframe thead th {\n",
       "        text-align: left;\n",
       "    }\n",
       "\n",
       "    .dataframe tbody tr th {\n",
       "        vertical-align: top;\n",
       "    }\n",
       "</style>\n",
       "<table border=\"1\" class=\"dataframe\">\n",
       "  <thead>\n",
       "    <tr style=\"text-align: right;\">\n",
       "      <th></th>\n",
       "      <th>tokens</th>\n",
       "      <th>ratings</th>\n",
       "    </tr>\n",
       "  </thead>\n",
       "  <tbody>\n",
       "    <tr>\n",
       "      <th>0</th>\n",
       "      <td>fluted</td>\n",
       "      <td>3.050337</td>\n",
       "    </tr>\n",
       "    <tr>\n",
       "      <th>1</th>\n",
       "      <td>danger</td>\n",
       "      <td>2.974985</td>\n",
       "    </tr>\n",
       "    <tr>\n",
       "      <th>2</th>\n",
       "      <td>55</td>\n",
       "      <td>2.994373</td>\n",
       "    </tr>\n",
       "    <tr>\n",
       "      <th>3</th>\n",
       "      <td>speaking</td>\n",
       "      <td>3.012212</td>\n",
       "    </tr>\n",
       "    <tr>\n",
       "      <th>4</th>\n",
       "      <td>photo</td>\n",
       "      <td>3.059103</td>\n",
       "    </tr>\n",
       "  </tbody>\n",
       "</table>\n",
       "</div>"
      ],
      "text/plain": [
       "     tokens   ratings\n",
       "0    fluted  3.050337\n",
       "1    danger  2.974985\n",
       "2        55  2.994373\n",
       "3  speaking  3.012212\n",
       "4     photo  3.059103"
      ]
     },
     "execution_count": 9,
     "metadata": {},
     "output_type": "execute_result"
    }
   ],
   "source": [
    "mixed_ffn_D_df = pd.read_csv('lexica/mixed_level_ffn/D_ratings.tsv', sep='\\t', index_col=0)\n",
    "print(mixed_ffn_D_df.shape)\n",
    "mixed_ffn_D_df.head()"
   ]
  },
  {
   "cell_type": "markdown",
   "metadata": {},
   "source": [
    "# Distributions"
   ]
  },
  {
   "cell_type": "code",
   "execution_count": 10,
   "metadata": {
    "collapsed": true
   },
   "outputs": [],
   "source": [
    "xlabel='Ratings'\n",
    "ylabel='Counts'\n",
    "bins=None"
   ]
  },
  {
   "cell_type": "markdown",
   "metadata": {},
   "source": [
    "### Valence"
   ]
  },
  {
   "cell_type": "code",
   "execution_count": 11,
   "metadata": {},
   "outputs": [
    {
     "data": {
      "image/png": "[encoded data removed]",
      "text/plain": [
       "<matplotlib.figure.Figure at 0x1106ea390>"
      ]
     },
     "metadata": {},
     "output_type": "display_data"
    }
   ],
   "source": [
    "plt.xlabel(xlabel)\n",
    "plt.ylabel(ylabel)\n",
    "plt.title('Histogram of Gold-Standard Valence')\n",
    "plt.hist(vad_gold_df['V.Mean.Sum'], bins=bins);"
   ]
  },
  {
   "cell_type": "code",
   "execution_count": 12,
   "metadata": {},
   "outputs": [
    {
     "data": {
      "image/png": "[encoded data removed]",
      "text/plain": [
       "<matplotlib.figure.Figure at 0x10ed87cc0>"
      ]
     },
     "metadata": {},
     "output_type": "display_data"
    }
   ],
   "source": [
    "plt.xlabel(xlabel)\n",
    "plt.ylabel(ylabel)\n",
    "plt.title('Histogram of Predicted Valence: Mean Binary Ratings')\n",
    "plt.hist(mean_ratings_df['avg(vad_eb.V > 3)'], bins=bins);"
   ]
  },
  {
   "cell_type": "code",
   "execution_count": 13,
   "metadata": {
    "scrolled": true
   },
   "outputs": [
    {
     "data": {
      "image/png": "[encoded data removed]",
      "text/plain": [
       "<matplotlib.figure.Figure at 0x10f363be0>"
      ]
     },
     "metadata": {},
     "output_type": "display_data"
    }
   ],
   "source": [
    "plt.xlabel(xlabel)\n",
    "plt.ylabel(ylabel)\n",
    "plt.title('Histogram of Predicted Valence: Mean Star Ratings')\n",
    "plt.hist(mean_ratings_df['avg(vad_eb.V)'], bins=bins);"
   ]
  },
  {
   "cell_type": "code",
   "execution_count": 14,
   "metadata": {},
   "outputs": [
    {
     "data": {
      "image/png": "[encoded data removed]",
      "text/plain": [
       "<matplotlib.figure.Figure at 0x10f34c710>"
      ]
     },
     "metadata": {},
     "output_type": "display_data"
    }
   ],
   "source": [
    "plt.xlabel(xlabel)\n",
    "plt.ylabel(ylabel)\n",
    "plt.title('Histogram of Predicted Valence: Regression Weights')\n",
    "plt.hist(regression_V_df['weight'], bins=bins);"
   ]
  },
  {
   "cell_type": "code",
   "execution_count": 15,
   "metadata": {},
   "outputs": [
    {
     "data": {
      "image/png": "[encoded data removed]",
      "text/plain": [
       "<matplotlib.figure.Figure at 0x118957978>"
      ]
     },
     "metadata": {},
     "output_type": "display_data"
    }
   ],
   "source": [
    "plt.xlabel(xlabel)\n",
    "plt.ylabel(ylabel)\n",
    "plt.title('Histogram of Predicted Valence: Mixed-Level Feed Forward Network')\n",
    "plt.hist(mixed_ffn_V_df['ratings'], bins=bins);"
   ]
  },
  {
   "cell_type": "markdown",
   "metadata": {},
   "source": [
    "### Arousal"
   ]
  },
  {
   "cell_type": "code",
   "execution_count": 16,
   "metadata": {
    "scrolled": false
   },
   "outputs": [
    {
     "data": {
      "image/png": "[encoded data removed]",
      "text/plain": [
       "<matplotlib.figure.Figure at 0x118ba9b70>"
      ]
     },
     "metadata": {},
     "output_type": "display_data"
    }
   ],
   "source": [
    "plt.xlabel(xlabel)\n",
    "plt.ylabel(ylabel)\n",
    "plt.title('Histogram of Gold-Standard Arousal')\n",
    "plt.hist(vad_gold_df['A.Mean.Sum'], bins=bins);"
   ]
  },
  {
   "cell_type": "code",
   "execution_count": 17,
   "metadata": {},
   "outputs": [
    {
     "data": {
      "image/png": "[encoded data removed]",
      "text/plain": [
       "<matplotlib.figure.Figure at 0x118931f98>"
      ]
     },
     "metadata": {},
     "output_type": "display_data"
    }
   ],
   "source": [
    "plt.xlabel(xlabel)\n",
    "plt.ylabel(ylabel)\n",
    "plt.title('Histogram of Predicted Arousal: Mean Binary Ratings')\n",
    "plt.hist(mean_ratings_df['avg(vad_eb.A > 3)']);"
   ]
  },
  {
   "cell_type": "code",
   "execution_count": 18,
   "metadata": {},
   "outputs": [
    {
     "data": {
      "image/png": "[encoded data removed]",
      "text/plain": [
       "<matplotlib.figure.Figure at 0x118db8e80>"
      ]
     },
     "metadata": {},
     "output_type": "display_data"
    }
   ],
   "source": [
    "plt.xlabel(xlabel)\n",
    "plt.ylabel(ylabel)\n",
    "plt.title('Histogram of Predicted Arousal: Mean Star Ratings')\n",
    "plt.hist(mean_ratings_df['avg(vad_eb.A)']);"
   ]
  },
  {
   "cell_type": "code",
   "execution_count": 19,
   "metadata": {},
   "outputs": [
    {
     "data": {
      "image/png": "[encoded data removed]",
      "text/plain": [
       "<matplotlib.figure.Figure at 0x118edb668>"
      ]
     },
     "metadata": {},
     "output_type": "display_data"
    }
   ],
   "source": [
    "plt.xlabel(xlabel)\n",
    "plt.ylabel(ylabel)\n",
    "plt.title('Histogram of Predicted Arousal: Regression Weights')\n",
    "plt.hist(regression_A_df['weight'], bins=bins);"
   ]
  },
  {
   "cell_type": "code",
   "execution_count": 20,
   "metadata": {},
   "outputs": [
    {
     "data": {
      "image/png": "[encoded data removed]",
      "text/plain": [
       "<matplotlib.figure.Figure at 0x118f4dc88>"
      ]
     },
     "metadata": {},
     "output_type": "display_data"
    }
   ],
   "source": [
    "plt.xlabel(xlabel)\n",
    "plt.ylabel(ylabel)\n",
    "plt.title('Histogram of Predicted Arousal: Mixed-Level Feed Forward Network')\n",
    "plt.hist(mixed_ffn_A_df['ratings'], bins=bins);"
   ]
  },
  {
   "cell_type": "markdown",
   "metadata": {},
   "source": [
    "### Dominance"
   ]
  },
  {
   "cell_type": "code",
   "execution_count": 21,
   "metadata": {
    "scrolled": true
   },
   "outputs": [
    {
     "data": {
      "image/png": "[encoded data removed]",
      "text/plain": [
       "<matplotlib.figure.Figure at 0x1189b8f28>"
      ]
     },
     "metadata": {},
     "output_type": "display_data"
    }
   ],
   "source": [
    "plt.xlabel(xlabel)\n",
    "plt.ylabel(ylabel)\n",
    "plt.title('Histogram of Gold-Standard Dominance')\n",
    "plt.hist(vad_gold_df['D.Mean.Sum']);"
   ]
  },
  {
   "cell_type": "code",
   "execution_count": 22,
   "metadata": {},
   "outputs": [
    {
     "data": {
      "image/png": "[encoded data removed]",
      "text/plain": [
       "<matplotlib.figure.Figure at 0x10e967d30>"
      ]
     },
     "metadata": {},
     "output_type": "display_data"
    }
   ],
   "source": [
    "plt.xlabel(xlabel)\n",
    "plt.ylabel(ylabel)\n",
    "plt.title('Histogram of Predicted Dominance: Mean Binary Ratings')\n",
    "plt.hist(mean_ratings_df['avg(vad_eb.D > 3)']);"
   ]
  },
  {
   "cell_type": "code",
   "execution_count": 23,
   "metadata": {},
   "outputs": [
    {
     "data": {
      "image/png": "[encoded data removed]",
      "text/plain": [
       "<matplotlib.figure.Figure at 0x10ed70828>"
      ]
     },
     "metadata": {},
     "output_type": "display_data"
    }
   ],
   "source": [
    "plt.xlabel(xlabel)\n",
    "plt.ylabel(ylabel)\n",
    "plt.title('Histogram of Predicted Dominance: Mean Star Ratings')\n",
    "plt.hist(mean_ratings_df['avg(vad_eb.D > 3)']);"
   ]
  },
  {
   "cell_type": "code",
   "execution_count": 24,
   "metadata": {},
   "outputs": [
    {
     "data": {
      "image/png": "[encoded data removed]",
      "text/plain": [
       "<matplotlib.figure.Figure at 0x118e227f0>"
      ]
     },
     "metadata": {},
     "output_type": "display_data"
    }
   ],
   "source": [
    "plt.xlabel(xlabel)\n",
    "plt.ylabel(ylabel)\n",
    "plt.title('Histogram of Predicted Dominance: Regression Weights')\n",
    "plt.hist(regression_D_df['weight'], bins=bins);"
   ]
  },
  {
   "cell_type": "code",
   "execution_count": 25,
   "metadata": {},
   "outputs": [
    {
     "data": {
      "image/png": "[encoded data removed]",
      "text/plain": [
       "<matplotlib.figure.Figure at 0x10e951978>"
      ]
     },
     "metadata": {},
     "output_type": "display_data"
    }
   ],
   "source": [
    "plt.xlabel(xlabel)\n",
    "plt.ylabel(ylabel)\n",
    "plt.title('Histogram of Predicted Dominance: Mixed-Level Feed Forward Network')\n",
    "plt.hist(mixed_ffn_D_df['ratings'], bins=bins);"
   ]
  },
  {
   "cell_type": "markdown",
   "metadata": {},
   "source": [
    "# Correlation"
   ]
  },
  {
   "cell_type": "code",
   "execution_count": 26,
   "metadata": {
    "collapsed": true
   },
   "outputs": [],
   "source": [
    "from scipy import stats as st\n",
    "\n",
    "def correlation(true, pred):\n",
    "    result=st.pearsonr(true,pred)\n",
    "    return result[0]\n",
    "\n",
    "correlations={}"
   ]
  },
  {
   "cell_type": "code",
   "execution_count": 27,
   "metadata": {},
   "outputs": [
    {
     "name": "stdout",
     "output_type": "stream",
     "text": [
      "(5859, 11)\n"
     ]
    },
    {
     "data": {
      "text/html": [
       "<div>\n",
       "<style>\n",
       "    .dataframe thead tr:only-child th {\n",
       "        text-align: right;\n",
       "    }\n",
       "\n",
       "    .dataframe thead th {\n",
       "        text-align: left;\n",
       "    }\n",
       "\n",
       "    .dataframe tbody tr th {\n",
       "        vertical-align: top;\n",
       "    }\n",
       "</style>\n",
       "<table border=\"1\" class=\"dataframe\">\n",
       "  <thead>\n",
       "    <tr style=\"text-align: right;\">\n",
       "      <th></th>\n",
       "      <th>Word</th>\n",
       "      <th>V.Mean.Sum</th>\n",
       "      <th>A.Mean.Sum</th>\n",
       "      <th>D.Mean.Sum</th>\n",
       "      <th>feat</th>\n",
       "      <th>avg(vad_eb.V)</th>\n",
       "      <th>avg(vad_eb.A)</th>\n",
       "      <th>avg(vad_eb.D)</th>\n",
       "      <th>avg(vad_eb.V &gt; 3)</th>\n",
       "      <th>avg(vad_eb.A &gt; 3)</th>\n",
       "      <th>avg(vad_eb.D &gt; 3)</th>\n",
       "    </tr>\n",
       "  </thead>\n",
       "  <tbody>\n",
       "    <tr>\n",
       "      <th>0</th>\n",
       "      <td>abandon</td>\n",
       "      <td>2.84</td>\n",
       "      <td>3.73</td>\n",
       "      <td>3.32</td>\n",
       "      <td>abandon</td>\n",
       "      <td>3.063333</td>\n",
       "      <td>2.913333</td>\n",
       "      <td>3.063333</td>\n",
       "      <td>0.3333</td>\n",
       "      <td>0.3333</td>\n",
       "      <td>0.3333</td>\n",
       "    </tr>\n",
       "    <tr>\n",
       "      <th>1</th>\n",
       "      <td>abandonment</td>\n",
       "      <td>2.63</td>\n",
       "      <td>4.95</td>\n",
       "      <td>2.64</td>\n",
       "      <td>abandonment</td>\n",
       "      <td>2.430000</td>\n",
       "      <td>3.290000</td>\n",
       "      <td>2.570000</td>\n",
       "      <td>0.0000</td>\n",
       "      <td>1.0000</td>\n",
       "      <td>0.0000</td>\n",
       "    </tr>\n",
       "    <tr>\n",
       "      <th>2</th>\n",
       "      <td>abdomen</td>\n",
       "      <td>5.43</td>\n",
       "      <td>3.68</td>\n",
       "      <td>5.15</td>\n",
       "      <td>abdomen</td>\n",
       "      <td>3.000000</td>\n",
       "      <td>3.000000</td>\n",
       "      <td>3.000000</td>\n",
       "      <td>0.0000</td>\n",
       "      <td>0.0000</td>\n",
       "      <td>0.0000</td>\n",
       "    </tr>\n",
       "    <tr>\n",
       "      <th>3</th>\n",
       "      <td>abduct</td>\n",
       "      <td>2.42</td>\n",
       "      <td>5.90</td>\n",
       "      <td>2.75</td>\n",
       "      <td>abduct</td>\n",
       "      <td>2.220000</td>\n",
       "      <td>3.220000</td>\n",
       "      <td>2.560000</td>\n",
       "      <td>0.0000</td>\n",
       "      <td>1.0000</td>\n",
       "      <td>0.0000</td>\n",
       "    </tr>\n",
       "    <tr>\n",
       "      <th>4</th>\n",
       "      <td>abide</td>\n",
       "      <td>5.52</td>\n",
       "      <td>3.26</td>\n",
       "      <td>5.33</td>\n",
       "      <td>abide</td>\n",
       "      <td>2.500000</td>\n",
       "      <td>2.870000</td>\n",
       "      <td>3.120000</td>\n",
       "      <td>0.0000</td>\n",
       "      <td>0.0000</td>\n",
       "      <td>1.0000</td>\n",
       "    </tr>\n",
       "  </tbody>\n",
       "</table>\n",
       "</div>"
      ],
      "text/plain": [
       "          Word  V.Mean.Sum  A.Mean.Sum  D.Mean.Sum         feat  \\\n",
       "0      abandon        2.84        3.73        3.32      abandon   \n",
       "1  abandonment        2.63        4.95        2.64  abandonment   \n",
       "2      abdomen        5.43        3.68        5.15      abdomen   \n",
       "3       abduct        2.42        5.90        2.75       abduct   \n",
       "4        abide        5.52        3.26        5.33        abide   \n",
       "\n",
       "   avg(vad_eb.V)  avg(vad_eb.A)  avg(vad_eb.D)  avg(vad_eb.V > 3)  \\\n",
       "0       3.063333       2.913333       3.063333             0.3333   \n",
       "1       2.430000       3.290000       2.570000             0.0000   \n",
       "2       3.000000       3.000000       3.000000             0.0000   \n",
       "3       2.220000       3.220000       2.560000             0.0000   \n",
       "4       2.500000       2.870000       3.120000             0.0000   \n",
       "\n",
       "   avg(vad_eb.A > 3)  avg(vad_eb.D > 3)  \n",
       "0             0.3333             0.3333  \n",
       "1             1.0000             0.0000  \n",
       "2             0.0000             0.0000  \n",
       "3             1.0000             0.0000  \n",
       "4             0.0000             1.0000  "
      ]
     },
     "execution_count": 27,
     "metadata": {},
     "output_type": "execute_result"
    }
   ],
   "source": [
    "merge_df = vad_gold_df.merge(mean_ratings_df, left_on='Word', right_on='feat')\n",
    "print(merge_df.shape)\n",
    "merge_df.head()"
   ]
  },
  {
   "cell_type": "code",
   "execution_count": 28,
   "metadata": {},
   "outputs": [],
   "source": [
    "results = {}\n",
    "results_key = 'mean_binary'\n",
    "for emo in ['V', 'A', 'D']:\n",
    "    true_key = f'{emo}.Mean.Sum'\n",
    "    predict_key = f'avg(vad_eb.{emo} > 3)'\n",
    "    results[emo] = correlation(merge_df[true_key], merge_df[predict_key]*9)\n",
    "correlations[results_key] = results"
   ]
  },
  {
   "cell_type": "code",
   "execution_count": 29,
   "metadata": {},
   "outputs": [],
   "source": [
    "results = {}\n",
    "results_key = 'mean_star'\n",
    "for emo in ['V', 'A', 'D']:\n",
    "    true_key = f'{emo}.Mean.Sum'\n",
    "    predict_key = f'avg(vad_eb.{emo})'\n",
    "    results[emo] = correlation(merge_df[true_key], merge_df[predict_key])\n",
    "correlations[results_key] = results"
   ]
  },
  {
   "cell_type": "code",
   "execution_count": 30,
   "metadata": {},
   "outputs": [
    {
     "name": "stdout",
     "output_type": "stream",
     "text": [
      "(5859, 9)\n"
     ]
    },
    {
     "data": {
      "text/html": [
       "<div>\n",
       "<style>\n",
       "    .dataframe thead tr:only-child th {\n",
       "        text-align: right;\n",
       "    }\n",
       "\n",
       "    .dataframe thead th {\n",
       "        text-align: left;\n",
       "    }\n",
       "\n",
       "    .dataframe tbody tr th {\n",
       "        vertical-align: top;\n",
       "    }\n",
       "</style>\n",
       "<table border=\"1\" class=\"dataframe\">\n",
       "  <thead>\n",
       "    <tr style=\"text-align: right;\">\n",
       "      <th></th>\n",
       "      <th>Word</th>\n",
       "      <th>V.Mean.Sum</th>\n",
       "      <th>A.Mean.Sum</th>\n",
       "      <th>D.Mean.Sum</th>\n",
       "      <th>term</th>\n",
       "      <th>weight_V</th>\n",
       "      <th>category</th>\n",
       "      <th>weight_A</th>\n",
       "      <th>weight_D</th>\n",
       "    </tr>\n",
       "  </thead>\n",
       "  <tbody>\n",
       "    <tr>\n",
       "      <th>0</th>\n",
       "      <td>abandon</td>\n",
       "      <td>2.84</td>\n",
       "      <td>3.73</td>\n",
       "      <td>3.32</td>\n",
       "      <td>abandon</td>\n",
       "      <td>-0.019328</td>\n",
       "      <td>A</td>\n",
       "      <td>-0.019328</td>\n",
       "      <td>-0.000142</td>\n",
       "    </tr>\n",
       "    <tr>\n",
       "      <th>1</th>\n",
       "      <td>abandonment</td>\n",
       "      <td>2.63</td>\n",
       "      <td>4.95</td>\n",
       "      <td>2.64</td>\n",
       "      <td>abandonment</td>\n",
       "      <td>0.010205</td>\n",
       "      <td>A</td>\n",
       "      <td>0.010205</td>\n",
       "      <td>-0.023082</td>\n",
       "    </tr>\n",
       "    <tr>\n",
       "      <th>2</th>\n",
       "      <td>abdomen</td>\n",
       "      <td>5.43</td>\n",
       "      <td>3.68</td>\n",
       "      <td>5.15</td>\n",
       "      <td>abdomen</td>\n",
       "      <td>0.000229</td>\n",
       "      <td>A</td>\n",
       "      <td>0.000229</td>\n",
       "      <td>-0.000675</td>\n",
       "    </tr>\n",
       "    <tr>\n",
       "      <th>3</th>\n",
       "      <td>abduct</td>\n",
       "      <td>2.42</td>\n",
       "      <td>5.90</td>\n",
       "      <td>2.75</td>\n",
       "      <td>abduct</td>\n",
       "      <td>0.021216</td>\n",
       "      <td>A</td>\n",
       "      <td>0.021216</td>\n",
       "      <td>-0.063845</td>\n",
       "    </tr>\n",
       "    <tr>\n",
       "      <th>4</th>\n",
       "      <td>abide</td>\n",
       "      <td>5.52</td>\n",
       "      <td>3.26</td>\n",
       "      <td>5.33</td>\n",
       "      <td>abide</td>\n",
       "      <td>-0.003951</td>\n",
       "      <td>A</td>\n",
       "      <td>-0.003951</td>\n",
       "      <td>0.001189</td>\n",
       "    </tr>\n",
       "  </tbody>\n",
       "</table>\n",
       "</div>"
      ],
      "text/plain": [
       "          Word  V.Mean.Sum  A.Mean.Sum  D.Mean.Sum         term  weight_V  \\\n",
       "0      abandon        2.84        3.73        3.32      abandon -0.019328   \n",
       "1  abandonment        2.63        4.95        2.64  abandonment  0.010205   \n",
       "2      abdomen        5.43        3.68        5.15      abdomen  0.000229   \n",
       "3       abduct        2.42        5.90        2.75       abduct  0.021216   \n",
       "4        abide        5.52        3.26        5.33        abide -0.003951   \n",
       "\n",
       "  category  weight_A  weight_D  \n",
       "0        A -0.019328 -0.000142  \n",
       "1        A  0.010205 -0.023082  \n",
       "2        A  0.000229 -0.000675  \n",
       "3        A  0.021216 -0.063845  \n",
       "4        A -0.003951  0.001189  "
      ]
     },
     "execution_count": 30,
     "metadata": {},
     "output_type": "execute_result"
    }
   ],
   "source": [
    "merge_df = vad_gold_df.merge(regression_V_df, left_on='Word', right_on='term')\n",
    "merge_df = merge_df.merge(regression_A_df, on='term', suffixes=('', '_A'))\n",
    "merge_df = merge_df.merge(regression_D_df, on='term', suffixes=('', '_D'))\n",
    "merge_df = merge_df.rename(index=str, columns={'weight': 'weight_V'})\n",
    "print(merge_df.shape)\n",
    "merge_df.head()"
   ]
  },
  {
   "cell_type": "code",
   "execution_count": 31,
   "metadata": {},
   "outputs": [],
   "source": [
    "results = {}\n",
    "results_key = 'regression_weights'\n",
    "for emo in ['V', 'A', 'D']:\n",
    "    true_key = f'{emo}.Mean.Sum'\n",
    "    predict_key = f'weight_{emo}'\n",
    "    results[emo] = correlation(merge_df[true_key], merge_df[predict_key])\n",
    "correlations[results_key] = results"
   ]
  },
  {
   "cell_type": "code",
   "execution_count": 32,
   "metadata": {},
   "outputs": [
    {
     "name": "stdout",
     "output_type": "stream",
     "text": [
      "(5713, 8)\n"
     ]
    },
    {
     "data": {
      "text/html": [
       "<div>\n",
       "<style>\n",
       "    .dataframe thead tr:only-child th {\n",
       "        text-align: right;\n",
       "    }\n",
       "\n",
       "    .dataframe thead th {\n",
       "        text-align: left;\n",
       "    }\n",
       "\n",
       "    .dataframe tbody tr th {\n",
       "        vertical-align: top;\n",
       "    }\n",
       "</style>\n",
       "<table border=\"1\" class=\"dataframe\">\n",
       "  <thead>\n",
       "    <tr style=\"text-align: right;\">\n",
       "      <th></th>\n",
       "      <th>Word</th>\n",
       "      <th>V.Mean.Sum</th>\n",
       "      <th>A.Mean.Sum</th>\n",
       "      <th>D.Mean.Sum</th>\n",
       "      <th>tokens</th>\n",
       "      <th>ratings_V</th>\n",
       "      <th>ratings_A</th>\n",
       "      <th>ratings_D</th>\n",
       "    </tr>\n",
       "  </thead>\n",
       "  <tbody>\n",
       "    <tr>\n",
       "      <th>0</th>\n",
       "      <td>abandon</td>\n",
       "      <td>2.84</td>\n",
       "      <td>3.73</td>\n",
       "      <td>3.32</td>\n",
       "      <td>abandon</td>\n",
       "      <td>2.606444</td>\n",
       "      <td>3.113456</td>\n",
       "      <td>3.113456</td>\n",
       "    </tr>\n",
       "    <tr>\n",
       "      <th>1</th>\n",
       "      <td>abandonment</td>\n",
       "      <td>2.63</td>\n",
       "      <td>4.95</td>\n",
       "      <td>2.64</td>\n",
       "      <td>abandonment</td>\n",
       "      <td>2.606444</td>\n",
       "      <td>2.952111</td>\n",
       "      <td>2.952111</td>\n",
       "    </tr>\n",
       "    <tr>\n",
       "      <th>2</th>\n",
       "      <td>abdomen</td>\n",
       "      <td>5.43</td>\n",
       "      <td>3.68</td>\n",
       "      <td>5.15</td>\n",
       "      <td>abdomen</td>\n",
       "      <td>2.614735</td>\n",
       "      <td>2.935777</td>\n",
       "      <td>2.935777</td>\n",
       "    </tr>\n",
       "    <tr>\n",
       "      <th>3</th>\n",
       "      <td>abduct</td>\n",
       "      <td>2.42</td>\n",
       "      <td>5.90</td>\n",
       "      <td>2.75</td>\n",
       "      <td>abduct</td>\n",
       "      <td>2.606444</td>\n",
       "      <td>3.369622</td>\n",
       "      <td>3.369622</td>\n",
       "    </tr>\n",
       "    <tr>\n",
       "      <th>4</th>\n",
       "      <td>abide</td>\n",
       "      <td>5.52</td>\n",
       "      <td>3.26</td>\n",
       "      <td>5.33</td>\n",
       "      <td>abide</td>\n",
       "      <td>2.611528</td>\n",
       "      <td>2.959690</td>\n",
       "      <td>2.959690</td>\n",
       "    </tr>\n",
       "  </tbody>\n",
       "</table>\n",
       "</div>"
      ],
      "text/plain": [
       "          Word  V.Mean.Sum  A.Mean.Sum  D.Mean.Sum       tokens  ratings_V  \\\n",
       "0      abandon        2.84        3.73        3.32      abandon   2.606444   \n",
       "1  abandonment        2.63        4.95        2.64  abandonment   2.606444   \n",
       "2      abdomen        5.43        3.68        5.15      abdomen   2.614735   \n",
       "3       abduct        2.42        5.90        2.75       abduct   2.606444   \n",
       "4        abide        5.52        3.26        5.33        abide   2.611528   \n",
       "\n",
       "   ratings_A  ratings_D  \n",
       "0   3.113456   3.113456  \n",
       "1   2.952111   2.952111  \n",
       "2   2.935777   2.935777  \n",
       "3   3.369622   3.369622  \n",
       "4   2.959690   2.959690  "
      ]
     },
     "execution_count": 32,
     "metadata": {},
     "output_type": "execute_result"
    }
   ],
   "source": [
    "merge_df = vad_gold_df.merge(mixed_ffn_V_df, left_on='Word', right_on='tokens')\n",
    "merge_df = merge_df.merge(mixed_ffn_A_df, on='tokens', suffixes=('', '_A'))\n",
    "merge_df = merge_df.merge(mixed_ffn_A_df, on='tokens', suffixes=('', '_D'))\n",
    "merge_df = merge_df.rename(index=str, columns={'ratings': 'ratings_V'})\n",
    "print(merge_df.shape)\n",
    "merge_df.head()"
   ]
  },
  {
   "cell_type": "code",
   "execution_count": 33,
   "metadata": {},
   "outputs": [],
   "source": [
    "results = {}\n",
    "results_key = 'mixed_level_ffn'\n",
    "for emo in ['V', 'A', 'D']:\n",
    "    true_key = f'{emo}.Mean.Sum'\n",
    "    predict_key = f'ratings_{emo}'\n",
    "    results[emo] = correlation(merge_df[true_key], merge_df[predict_key])\n",
    "correlations[results_key] = results"
   ]
  },
  {
   "cell_type": "code",
   "execution_count": 34,
   "metadata": {},
   "outputs": [
    {
     "data": {
      "text/html": [
       "<div>\n",
       "<style>\n",
       "    .dataframe thead tr:only-child th {\n",
       "        text-align: right;\n",
       "    }\n",
       "\n",
       "    .dataframe thead th {\n",
       "        text-align: left;\n",
       "    }\n",
       "\n",
       "    .dataframe tbody tr th {\n",
       "        vertical-align: top;\n",
       "    }\n",
       "</style>\n",
       "<table border=\"1\" class=\"dataframe\">\n",
       "  <thead>\n",
       "    <tr style=\"text-align: right;\">\n",
       "      <th></th>\n",
       "      <th>V</th>\n",
       "      <th>A</th>\n",
       "      <th>D</th>\n",
       "    </tr>\n",
       "  </thead>\n",
       "  <tbody>\n",
       "    <tr>\n",
       "      <th>mean_binary</th>\n",
       "      <td>0.307197</td>\n",
       "      <td>0.182168</td>\n",
       "      <td>0.114983</td>\n",
       "    </tr>\n",
       "    <tr>\n",
       "      <th>mean_star</th>\n",
       "      <td>0.394492</td>\n",
       "      <td>0.216961</td>\n",
       "      <td>0.142112</td>\n",
       "    </tr>\n",
       "    <tr>\n",
       "      <th>mixed_level_ffn</th>\n",
       "      <td>0.639985</td>\n",
       "      <td>0.453563</td>\n",
       "      <td>-0.109760</td>\n",
       "    </tr>\n",
       "    <tr>\n",
       "      <th>regression_weights</th>\n",
       "      <td>-0.022849</td>\n",
       "      <td>0.222567</td>\n",
       "      <td>0.130580</td>\n",
       "    </tr>\n",
       "  </tbody>\n",
       "</table>\n",
       "</div>"
      ],
      "text/plain": [
       "                           V         A         D\n",
       "mean_binary         0.307197  0.182168  0.114983\n",
       "mean_star           0.394492  0.216961  0.142112\n",
       "mixed_level_ffn     0.639985  0.453563 -0.109760\n",
       "regression_weights -0.022849  0.222567  0.130580"
      ]
     },
     "execution_count": 34,
     "metadata": {},
     "output_type": "execute_result"
    }
   ],
   "source": [
    "correlations_df = pd.DataFrame(correlations).transpose()\n",
    "correlations_df = correlations_df[['V', 'A', 'D']]\n",
    "correlations_df"
   ]
  }
 ],
 "metadata": {
  "kernelspec": {
   "display_name": "Python 3",
   "language": "python",
   "name": "python3"
  },
  "language_info": {
   "codemirror_mode": {
    "name": "ipython",
    "version": 3
   },
   "file_extension": ".py",
   "mimetype": "text/x-python",
   "name": "python",
   "nbconvert_exporter": "python",
   "pygments_lexer": "ipython3",
   "version": "3.6.3"
  }
 },
 "nbformat": 4,
 "nbformat_minor": 2
}
